{
 "cells": [
  {
   "cell_type": "markdown",
   "id": "7ebd5870",
   "metadata": {},
   "source": [
    "#### Q.1) You are given a string N.\n",
    "Your task is to verify that N is a floating point number.\n",
    "In this task, a valid float number must satisfy all of the following requirements:\n",
    "> Number can start with +, - or . symbol.\n",
    "    For example:\n",
    "    ✔+4.50\n",
    "    ✔-1.0\n",
    "    ✔.5\n",
    "    ✔-.7\n",
    "    ✔+.4\n",
    "    ✖ -+4.5\n",
    "> Number must contain at least  decimal value.\n",
    "For example:\n",
    "✖\n",
    " 12.\n",
    "✔\n",
    "12.0 \n",
    "> Number must have exactly one . symbol.\n",
    "> Number must not give any exceptions when converted using float(N).\n",
    "\n",
    "Input Format :\n",
    "The first line contains an integer T, the number of test cases.\n",
    "The next T line(s) contains a string N."
   ]
  },
  {
   "cell_type": "code",
   "execution_count": 1,
   "id": "fcf50319",
   "metadata": {},
   "outputs": [
    {
     "name": "stdout",
     "output_type": "stream",
     "text": [
      "1\n",
      "5.793\n",
      "True\n"
     ]
    }
   ],
   "source": [
    "import re\n",
    "for i in range(int(input())):\n",
    "    k = input()\n",
    "    print(bool(re.match(r'^[+-]?\\d*?\\.{1}\\d+$',k)))"
   ]
  },
  {
   "cell_type": "markdown",
   "id": "71cebec7",
   "metadata": {},
   "source": [
    "#### Q.2) You are given a string  consisting only of digits 0-9, commas ,, and dots .\n",
    "\n",
    "Your task is to complete the regex_pattern defined below, which will be used to re.split() all of the , and . symbols in .\n",
    "\n",
    "It’s guaranteed that every comma and every dot in  is preceeded and followed by a digit."
   ]
  },
  {
   "cell_type": "code",
   "execution_count": 2,
   "id": "4ccb6fff",
   "metadata": {},
   "outputs": [
    {
     "name": "stdout",
     "output_type": "stream",
     "text": [
      "100.203,156\n",
      "100\n",
      "203\n",
      "156\n"
     ]
    }
   ],
   "source": [
    "regex_pattern = r\"[,.]\"\n",
    "import re\n",
    "print(\"\\n\".join(re.split(regex_pattern, input())))"
   ]
  },
  {
   "cell_type": "markdown",
   "id": "a3ebfc73",
   "metadata": {},
   "source": [
    "#### Q.3) You are given a string .\n",
    "Your task is to find the first occurrence of an alphanumeric character in  (read from left to right) that has consecutive repetitions."
   ]
  },
  {
   "cell_type": "code",
   "execution_count": 3,
   "id": "fe3fafed",
   "metadata": {},
   "outputs": [
    {
     "name": "stdout",
     "output_type": "stream",
     "text": [
      "adnmcs\n",
      "-1\n"
     ]
    }
   ],
   "source": [
    "import re\n",
    "\n",
    "expression=r\"([a-zA-Z0-9])\\1+\"\n",
    "\n",
    "m = re.search(expression,input())\n",
    "\n",
    "if m:\n",
    "    print(m.group(1))\n",
    "else:\n",
    "    print(-1)"
   ]
  },
  {
   "cell_type": "code",
   "execution_count": 4,
   "id": "1b0e2aa5",
   "metadata": {},
   "outputs": [
    {
     "ename": "SyntaxError",
     "evalue": "invalid syntax (2521192366.py, line 3)",
     "output_type": "error",
     "traceback": [
      "\u001b[1;36m  Input \u001b[1;32mIn [4]\u001b[1;36m\u001b[0m\n\u001b[1;33m    A group() expression returns one or more subgroups of the match.\u001b[0m\n\u001b[1;37m      ^\u001b[0m\n\u001b[1;31mSyntaxError\u001b[0m\u001b[1;31m:\u001b[0m invalid syntax\n"
     ]
    }
   ],
   "source": [
    "/* \n",
    "group()\n",
    "A group() expression returns one or more subgroups of the match.\n",
    "Code :\n",
    ">>> import re\n",
    ">>> m = re.match(r'(\\w+)@(\\w+)\\.(\\w+)','username@hackerrank.com')\n",
    ">>> m.group(0)       # The entire match \n",
    "'username@hackerrank.com'\n",
    ">>> m.group(1)       # The first parenthesized subgroup.\n",
    "'username'\n",
    ">>> m.group(2)       # The second parenthesized subgroup.\n",
    "'hackerrank'\n",
    ">>> m.group(3)       # The third parenthesized subgroup.\n",
    "'com'\n",
    ">>> m.group(1,2,3)   # Multiple arguments give us a tuple.\n",
    "('username', 'hackerrank', 'com')\n",
    "\n",
    "\n",
    "\n",
    "\n",
    "groups()\n",
    "A groups() expression returns a tuple containing all the subgroups of the match.\n",
    "Code :\n",
    ">>> import re\n",
    ">>> m = re.match(r'(\\w+)@(\\w+)\\.(\\w+)','username@hackerrank.com')\n",
    ">>> m.groups()\n",
    "('username', 'hackerrank', 'com')\n",
    "\n",
    "\n",
    "groupdict()\n",
    "A groupdict() expression returns a dictionary containing all the named subgroups of the match, keyed by the subgroup name.\n",
    "Code :\n",
    ">>> m = re.match(r'(?P<user>\\w+)@(?P<website>\\w+)\\.(?P<extension>\\w+)','myname@hackerrank.com')\n",
    ">>> m.groupdict()\n",
    "{'website': 'hackerrank', 'user': 'myname', 'extension': 'com'}\n",
    "\n",
    "*/"
   ]
  },
  {
   "cell_type": "markdown",
   "id": "59b78e7d",
   "metadata": {},
   "source": [
    "#### Q.4) Task :\n",
    "You are given a string S. It consists of alphanumeric characters, spaces and symbols(+,-).\n",
    "Your task is to find all the substrings of S that contains 2 or more vowels.\n",
    "Also, these substrings must lie in between 2 consonants and should contain vowels only.\n",
    "Note :\n",
    "Vowels are defined as: AEIOU and aeiou.\n",
    "Consonants are defined as: QWRTYPSDFGHJKLZXCVBNM and qwrtypsdfghjklzxcvbnm."
   ]
  },
  {
   "cell_type": "code",
   "execution_count": null,
   "id": "64b04fe4",
   "metadata": {},
   "outputs": [],
   "source": [
    "re.findall()\n",
    "The expression re.findall() returns all the non-overlapping matches of patterns in a string as a list of strings.\n",
    "Code :\n",
    ">>> import re\n",
    ">>> re.findall(r'\\w','http://www.hackerrank.com/')\n",
    "['h', 't', 't', 'p', 'w', 'w', 'w', 'h', 'a', 'c', 'k', 'e', 'r', 'r', 'a', 'n', 'k', 'c', 'o', 'm']\n",
    "\n",
    "\n",
    "re.finditer()\n",
    "The expression re.finditer() returns an iterator yielding MatchObject instances over all non-overlapping matches for the re pattern in the string.\n",
    "Code :\n",
    ">>> import re\n",
    ">>> re.finditer(r'\\w','http://www.hackerrank.com/')\n",
    "<callable-iterator object at 0x0266C790>\n",
    ">>> map(lambda x: x.group(),re.finditer(r'\\w','http://www.hackerrank.com/'))\n",
    "['h', 't', 't', 'p', 'w', 'w', 'w', 'h', 'a', 'c', 'k', 'e', 'r', 'r', 'a', 'n', 'k', 'c', 'o', 'm']"
   ]
  },
  {
   "cell_type": "code",
   "execution_count": 5,
   "id": "112c80c4",
   "metadata": {},
   "outputs": [
    {
     "name": "stdout",
     "output_type": "stream",
     "text": [
      "kljsxtkjgoieroiiodkngdjn\n",
      "oie\n",
      "oiio\n"
     ]
    }
   ],
   "source": [
    "import re\n",
    "\n",
    "Storage = re.findall(r'(?<=[qwrtypsdfghjklzxcvbnm])([aeiou]{2,})(?=[qwrtypsdfghjklzxcvbnm])', input().strip(), re.IGNORECASE)\n",
    "\n",
    "if Storage:\n",
    "    for i in Storage:\n",
    "        print(i)\n",
    "else:\n",
    "    print(-1)"
   ]
  },
  {
   "cell_type": "markdown",
   "id": "68b5a517",
   "metadata": {},
   "source": [
    "#### Q.5) Task :\n",
    "You are given a string S.\n",
    "Your task is to find the indices of the start and end of string k in S.\n",
    "\n",
    "Input Format :\n",
    "The first line contains the string S.\n",
    "The second line contains the string k.\n",
    "\n",
    "Constraints :\n",
    "0 < len(s) < 100\n",
    "0 < len(k) < len(s)\n",
    "\n",
    "Output Format :\n",
    "Print the tuple in this format: (start _index, end _index).\n",
    "If no match is found, print (-1, -1)."
   ]
  },
  {
   "cell_type": "code",
   "execution_count": 2,
   "id": "db3fe835",
   "metadata": {},
   "outputs": [
    {
     "name": "stdout",
     "output_type": "stream",
     "text": [
      "4\n",
      "0\n"
     ]
    }
   ],
   "source": [
    "import re\n",
    "m = re.search(r'\\d+','1234')\n",
    "print(m.end())\n",
    "print(m.start())\n"
   ]
  },
  {
   "cell_type": "code",
   "execution_count": 3,
   "id": "f22f781a",
   "metadata": {},
   "outputs": [
    {
     "name": "stdout",
     "output_type": "stream",
     "text": [
      "abcdefghiabcdefghiabcdefghi\n",
      "abc\n",
      "(0, 2)\n",
      "(9, 11)\n",
      "(18, 20)\n"
     ]
    }
   ],
   "source": [
    "import re\n",
    "\n",
    "S, k = input(), input()\n",
    "matches = re.finditer(r'(?=(' + k + '))', S)\n",
    "\n",
    "anymatch = False\n",
    "for match in matches:\n",
    "    anymatch = True\n",
    "    print((match.start(1), match.end(1) - 1))\n",
    "\n",
    "if anymatch == False:\n",
    "    print((-1, -1))"
   ]
  },
  {
   "cell_type": "markdown",
   "id": "3890bd8c",
   "metadata": {},
   "source": [
    "#### Q.6) The re.sub() tool (sub stands for substitution) evaluates a pattern and, for each valid match, it calls a method (or lambda).\n",
    "The method is called for all matches and can be used to modify strings in different ways.\n",
    "The re.sub() method returns the modified string as an output.\n",
    "\n",
    "Learn more about .\n",
    "\n",
    "Transformation of Strings\n",
    "\n",
    "\n",
    "Code\n",
    "\n",
    "import re\n",
    "\n",
    "#Squaring numbers\n",
    "\n",
    "def square(match):\n",
    "\n",
    "    number = int(match.group(0))\n",
    "    \n",
    "    return str(number**2)\n",
    "    \n",
    "print re.sub(r\"\\d+\", square, \"1 2 3 4 5 6 7 8 9\")\n",
    "\n",
    "\n",
    "Output\n",
    "\n",
    "1 4 9 16 25 36 49 64 81"
   ]
  },
  {
   "cell_type": "markdown",
   "id": "9493803a",
   "metadata": {},
   "source": [
    "Task:\n",
    "\n",
    "You are given a text of N lines. The text contains && and || symbols.\n",
    "Your task is to modify those symbols to the following:\n",
    "    && → and\n",
    "    || → or\n",
    "    \n",
    "    Both && and || should have a space ” ” on both sides.\n",
    "\n",
    "Input format:\n",
    "\n",
    "The first line contains the integer, N.\n",
    "The next N lines each contain a line of the text."
   ]
  },
  {
   "cell_type": "code",
   "execution_count": 2,
   "id": "a84c6832",
   "metadata": {},
   "outputs": [
    {
     "name": "stdout",
     "output_type": "stream",
     "text": [
      "1\n",
      "i am studying && playing || sleeping\n",
      "i am studying and playing or sleeping\n"
     ]
    }
   ],
   "source": [
    "# importing the re module\n",
    "import re\n",
    "\n",
    "# taking input from user\n",
    "n = int(input())\n",
    "\n",
    "# using user defined function\n",
    "def check_replacement_required(match):\n",
    "    \n",
    "    # using if else statements to check\n",
    "    st = str(match.group(0))\n",
    "    if st == \"||\":\n",
    "        return \"or\"\n",
    "    elif st == \"&&\":\n",
    "        return \"and\"\n",
    "\n",
    "# using for loop to \n",
    "for i in range(n):\n",
    "    \n",
    "    # taking input from user and calling the function\n",
    "    s = input()\n",
    "    p = \"(?<=[ ])[|]{2}(?=[ ])|(?<=[ ])[&]{2}(?=[ ])\"\n",
    "    print(re.sub(p, check_replacement_required, s))"
   ]
  },
  {
   "cell_type": "code",
   "execution_count": 3,
   "id": "9b2fe739",
   "metadata": {},
   "outputs": [
    {
     "name": "stdout",
     "output_type": "stream",
     "text": [
      "1\n",
      "i am studying && playing || sleeping\n",
      "i am studying and playing or sleeping\n"
     ]
    }
   ],
   "source": [
    "# importing the module\n",
    "import re\n",
    "\n",
    "# using for loop\n",
    "for i in range(int(input())):\n",
    "    \n",
    "    # using re.sub method and taking input\n",
    "    s = re.sub(\"(?<=\\s)&&(?=\\s)\", \"and\", input())\n",
    "    \n",
    "    #printing the required output\n",
    "    print(re.sub(\"(?<=\\s)\\|\\|(?=\\s)\", \"or\", s))"
   ]
  },
  {
   "cell_type": "markdown",
   "id": "c16baa84",
   "metadata": {},
   "source": [
    "#### Q.7) Problem :\n",
    "\n",
    "You are given a string, and you have to validate whether it's a valid Roman numeral. If it is valid, print True. Otherwise, print False. Try to create a regular expression for a valid Roman numeral.\n",
    "\n",
    "Input Format :\n",
    "A single line of input containing a string of Roman characters.\n",
    "\n",
    "Output Format :\n",
    "Output a single line containing True or False according to the instructions above."
   ]
  },
  {
   "cell_type": "code",
   "execution_count": 1,
   "id": "3bbab5dd",
   "metadata": {},
   "outputs": [
    {
     "name": "stdout",
     "output_type": "stream",
     "text": [
      "Xxx\n",
      "False\n"
     ]
    }
   ],
   "source": [
    "thousand = 'M{0,3}'\n",
    "hundred = '(C[MD]|D?C{0,3})'\n",
    "ten = '(X[CL]|L?X{0,3})'\n",
    "digit = '(I[VX]|V?I{0,3})'\n",
    "regex_pattern = r\"%s%s%s%s$\" % (thousand, hundred, ten, digit)\t\n",
    "# Do not delete 'r'.\n",
    "# Validating Roman Numerals in Python - Hacker Rank Solution END\n",
    "\n",
    "import re\n",
    "print(str(bool(re.match(regex_pattern, input()))))"
   ]
  },
  {
   "cell_type": "code",
   "execution_count": 3,
   "id": "98405dcd",
   "metadata": {},
   "outputs": [
    {
     "name": "stdout",
     "output_type": "stream",
     "text": [
      "CDXXI\n",
      "True\n"
     ]
    }
   ],
   "source": [
    "thousand = 'M{0,3}'\n",
    "hundred = '(C[MD]|D?C{0,3})'\n",
    "ten = '(X[CL]|L?X{0,3})'\n",
    "digit = '(I[VX]|V?I{0,3})'\n",
    "\n",
    "regex_pattern = r\"M{0,3}(C[MD]|D?C{0,3})(X[CL]|L?X{0,3})(I[VX]|V?I{0,3})$\" # Do not delete 'r'.\n",
    "\n",
    "import re\n",
    "print(str(bool(re.match(regex_pattern, input()))))"
   ]
  },
  {
   "cell_type": "markdown",
   "id": "974838ba",
   "metadata": {},
   "source": [
    "#### Q.8) A valid mobile number is a ten digit number starting with a  or .\n",
    "Input Format\n",
    "The first line contains an integer N, the number of inputs.\n",
    "N lines follow, each containing some string.\n",
    "\n",
    "Output Format\n",
    "\n",
    "For every string listed, print \"YES\" if it is a valid mobile number and \"NO\" if it is not on separate lines. Do not print the quotes."
   ]
  },
  {
   "cell_type": "code",
   "execution_count": 1,
   "id": "0f8d0484",
   "metadata": {},
   "outputs": [
    {
     "name": "stdout",
     "output_type": "stream",
     "text": [
      "1\n",
      "9959959492\n",
      "YES\n"
     ]
    }
   ],
   "source": [
    "import re\n",
    "\n",
    "N = int(input())\n",
    "\n",
    "for i in range(N):\n",
    "    number = input()\n",
    "    if(len(number)==10 and number.isdigit()):\n",
    "        output = re.findall(r\"^[789]\\d{9}$\",number)\n",
    "        if(len(output)==1):\n",
    "            print(\"YES\")\n",
    "        else:\n",
    "            print(\"NO\")\n",
    "    else:\n",
    "        print(\"NO\")"
   ]
  },
  {
   "cell_type": "code",
   "execution_count": 7,
   "id": "81027a26",
   "metadata": {},
   "outputs": [
    {
     "data": {
      "text/plain": [
       "0"
      ]
     },
     "execution_count": 7,
     "metadata": {},
     "output_type": "execute_result"
    }
   ],
   "source": [
    "number = \"'9866711085','9959959492'\"\n",
    "len(re.findall(r\"^[789]\\d{9}$\",number))"
   ]
  },
  {
   "cell_type": "markdown",
   "id": "cc60298b",
   "metadata": {},
   "source": [
    "#### Q.9) A valid email address meets the following criteria:\n",
    "It's composed of a username, domain name, and extension assembled in this format: username@domain.extension\n",
    "The username starts with an English alphabetical character, and any subsequent characters consist of one or more of the following: alphanumeric characters, -,., and _.\n",
    "The domain and extension contain only English alphabetical characters.\n",
    "The extension is 1, 2, or 3 characters in length.\n",
    "Given n pairs of names and email addresses as input, print each name and email address pair having a valid email address on a new line.m\n",
    "\n",
    "Sample Input :\n",
    "2  \n",
    "- DEXTER <dexter@hotmail.com>\n",
    "- VIRUS <virus!@variable.:p>\n",
    "\n",
    "\n",
    "Sample Output :\n",
    "DEXTER <dexter@hotmail.com>\n",
    "\n",
    "Explanation :\n",
    "dexter@hotmail.com is a valid email address, so we print the name and email address pair received as input on a new line.\n",
    "virus!@variable.:p is not a valid email address because the username contains an exclamation point (!) and the extension contains a colon (:). As this email is not valid, we print nothing.\n"
   ]
  },
  {
   "cell_type": "code",
   "execution_count": 15,
   "id": "c95f6d9e",
   "metadata": {},
   "outputs": [
    {
     "name": "stdout",
     "output_type": "stream",
     "text": [
      "2\n",
      "asra <asra@gmail.com>\n",
      "asra <asra@gmail.com>\n",
      "asa as@gmail\n"
     ]
    }
   ],
   "source": [
    "import re\n",
    "\n",
    "N = int(input())\n",
    "\n",
    "for i in range(N):\n",
    "    name, email = input().split()\n",
    "    pattern=\"<[a-z][a-zA-Z0-9\\-\\.\\_]+@[a-zA-Z]+\\.[a-zA-Z]{1,3}>\"\n",
    "    if bool(re.match(pattern, email)):\n",
    "        print(name,email)"
   ]
  },
  {
   "cell_type": "markdown",
   "id": "b4d7f7d4",
   "metadata": {},
   "source": [
    "#### Q.10) CSS colors are defined using a hexadecimal (HEX) notation for the combination of Red, Green, and Blue color values (RGB).\n",
    "Specifications of HEX Color Code\n",
    "- ■ It must start with a '#' symbol.\n",
    "- ■ It can have 3 or digits 6.\n",
    "- ■ Each digit is in the range of 0 to F. ( 1, 2, 3, 4, 5, 6, 7, 8, 9, 0, A, B, C, D, E and F).\n",
    "- ■ A - F letters can be lower case. (a, b, c, d, e and f are also valid digits).\n",
    "\n",
    "Input Format :\n",
    "The first line contains N, the number of code lines.\n",
    "The next N lines contains CSS Codes.\n",
    "\n",
    "Input Format :\n",
    "The first line contains N, the number of code lines.\n",
    "The next N lines contains CSS Codes.\n",
    "\n",
    "Output Format :\n",
    "Output the color codes with '#' symbols on separate lines.\n",
    "\n",
    "Sample Input :\n",
    "11\n",
    "#BED\n",
    "{\n",
    "    color: #FfFdF8; background-color:#aef;\n",
    "    font-size: 123px;\n",
    "    background: -webkit-linear-gradient(top, #f9f9f9, #fff);\n",
    "}\n",
    "#Cab\n",
    "{\n",
    "    background-color: #ABC;\n",
    "    border: 2px dashed #fff;\n",
    "}   \n",
    "\n",
    "Sample Output :\n",
    "#FfFdF8\n",
    "#aef\n",
    "#f9f9f9\n",
    "#fff\n",
    "#ABC\n",
    "#fff\n",
    "\n",
    "Explanation :\n",
    "#BED and #Cab satisfy the Hex Color Code criteria, but they are used as selectors and not as color codes in the given CSS.\n",
    "Hence, the valid color codes are:\n",
    "#FfFdF8\n",
    "#aef\n",
    "#f9f9f9\n",
    "#fff\n",
    "#ABC\n",
    "#fff\n",
    "Note: There are no comments ( // or /* */) in CSS Code."
   ]
  },
  {
   "cell_type": "code",
   "execution_count": null,
   "id": "dd25fd67",
   "metadata": {},
   "outputs": [],
   "source": [
    "import re\n",
    "\n",
    "T = int(input())\n",
    "in_css = False\n",
    "for _ in range(T):\n",
    "    s = input()\n",
    "    if '{' in s:\n",
    "        in_css = True\n",
    "    elif '}' in s:\n",
    "        in_css = False\n",
    "    elif in_css:\n",
    "        for color in re.findall('#[0-9a-fA-F]{3,6}', s):\n",
    "            print(color)\n",
    "            "
   ]
  },
  {
   "cell_type": "code",
   "execution_count": null,
   "id": "0b6307f7",
   "metadata": {},
   "outputs": [],
   "source": []
  }
 ],
 "metadata": {
  "kernelspec": {
   "display_name": "Python 3 (ipykernel)",
   "language": "python",
   "name": "python3"
  },
  "language_info": {
   "codemirror_mode": {
    "name": "ipython",
    "version": 3
   },
   "file_extension": ".py",
   "mimetype": "text/x-python",
   "name": "python",
   "nbconvert_exporter": "python",
   "pygments_lexer": "ipython3",
   "version": "3.9.12"
  }
 },
 "nbformat": 4,
 "nbformat_minor": 5
}
