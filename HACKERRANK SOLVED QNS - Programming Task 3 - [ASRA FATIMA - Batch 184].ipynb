{
 "cells": [
  {
   "cell_type": "markdown",
   "id": "7cb3ff6a",
   "metadata": {},
   "source": [
    "#### Q.1) Task\n",
    "You are given a complex . Your task is to convert it to polar coordinates."
   ]
  },
  {
   "cell_type": "code",
   "execution_count": 1,
   "id": "18ce416d",
   "metadata": {},
   "outputs": [
    {
     "name": "stdout",
     "output_type": "stream",
     "text": [
      "1+2j\n",
      "2.23606797749979\n",
      "1.1071487177940904\n"
     ]
    }
   ],
   "source": [
    "import cmath;\n",
    "\n",
    "num = complex(input())\n",
    "z = complex(num)\n",
    "\n",
    "print(cmath.polar(z)[0])\n",
    "print(cmath.polar(z)[1])"
   ]
  },
  {
   "cell_type": "code",
   "execution_count": 5,
   "id": "350a8553",
   "metadata": {},
   "outputs": [
    {
     "name": "stdout",
     "output_type": "stream",
     "text": [
      "1+2j\n",
      "1.1071487177940904\n"
     ]
    }
   ],
   "source": [
    "import cmath;\n",
    "\n",
    "num = complex(input())\n",
    "z = complex(num)\n",
    "print(cmath.phase(z))"
   ]
  },
  {
   "cell_type": "code",
   "execution_count": 7,
   "id": "017629f4",
   "metadata": {},
   "outputs": [
    {
     "name": "stdout",
     "output_type": "stream",
     "text": [
      "1+2j\n",
      "2.23606797749979\n"
     ]
    }
   ],
   "source": [
    "import cmath;\n",
    "\n",
    "num = complex(input())\n",
    "z = complex(num)\n",
    "print(abs(z))"
   ]
  },
  {
   "cell_type": "markdown",
   "id": "6b2255c2",
   "metadata": {},
   "source": [
    "#### Q.2) ABC is a right triangle, 90o at B.\n",
    "Therefore, angle ABC = 90o.\n",
    "Point M is the midpoint of hypotenuse AC.\n",
    "You are given the lengths AB and BC.\n",
    "Your task is to find the angle MBC in degrees.\n",
    "\n",
    "Input format:\n",
    "\n",
    "The first line contains the length of side AB.\n",
    "The second line contains the length of side BC."
   ]
  },
  {
   "cell_type": "code",
   "execution_count": 8,
   "id": "0b6e1ee9",
   "metadata": {},
   "outputs": [
    {
     "name": "stdout",
     "output_type": "stream",
     "text": [
      "12\n",
      "12\n",
      "45°\n"
     ]
    }
   ],
   "source": [
    "# Enter your code here. Read input from STDIN. Print output to STDOUT\n",
    "# importing math\n",
    "import math\n",
    "\n",
    "# taking inputs\n",
    "a = int(input())\n",
    "b = int(input())\n",
    "\n",
    "\n",
    "# finding distace and angle\n",
    "M = math.sqrt(a**2+b**2)\n",
    "theta = math.acos(b/M )\n",
    "\n",
    "# printing the angle\n",
    "print(int(round(math.degrees(theta),0)),'\\u00B0',sep='')"
   ]
  },
  {
   "cell_type": "markdown",
   "id": "ad978586",
   "metadata": {},
   "source": [
    "#### Q.3) You are given a positive integer N.\n",
    "Your task is to print a palindromic triangle of size N."
   ]
  },
  {
   "cell_type": "code",
   "execution_count": 9,
   "id": "94126000",
   "metadata": {},
   "outputs": [
    {
     "name": "stdout",
     "output_type": "stream",
     "text": [
      "5\n",
      "1\n",
      "121\n",
      "12321\n",
      "1234321\n",
      "123454321\n"
     ]
    }
   ],
   "source": [
    "# using for loop which takes the input from user\n",
    "for i in range(1, int(input()) + 1): \n",
    "    \n",
    "    # printing the triangle of the number\n",
    "    print((10 ** i - 1) ** 2 // 81)"
   ]
  },
  {
   "cell_type": "markdown",
   "id": "dc8b2288",
   "metadata": {},
   "source": [
    "#### Q.4) Task\n",
    "Read in two integers,  and , and print three lines.\n",
    "The first line is the integer division  (While using Python2 remember to import division from __future__).\n",
    "The second line is the result of the modulo operator: .\n",
    "The third line prints the divmod of  and ."
   ]
  },
  {
   "cell_type": "code",
   "execution_count": 11,
   "id": "a646f94b",
   "metadata": {},
   "outputs": [
    {
     "name": "stdout",
     "output_type": "stream",
     "text": [
      "153\n",
      "10\n",
      "15\n",
      "3\n",
      "(15, 3)\n"
     ]
    }
   ],
   "source": [
    "a=int(input())\n",
    "b=int(input())\n",
    "\n",
    "print(a//b)\n",
    "print(a%b)\n",
    "print(divmod(a,b))"
   ]
  },
  {
   "cell_type": "markdown",
   "id": "020c87b7",
   "metadata": {},
   "source": [
    "#### Q.5) Task\n",
    "You are given three integers: a, b, and m. Print two lines.\n",
    "On the first line, print the result of pow(a,b). On the second line, print the result of pow(a,b,m)."
   ]
  },
  {
   "cell_type": "code",
   "execution_count": 13,
   "id": "d4381ae1",
   "metadata": {},
   "outputs": [
    {
     "name": "stdout",
     "output_type": "stream",
     "text": [
      "2\n",
      "3\n",
      "7\n",
      "8\n",
      "1\n"
     ]
    }
   ],
   "source": [
    "a = int(input())\n",
    "b = int(input())\n",
    "m = int(input())\n",
    "\n",
    "print(pow(a,b))\n",
    "\n",
    "print(pow(a,b,m))"
   ]
  },
  {
   "cell_type": "markdown",
   "id": "c68a5665",
   "metadata": {},
   "source": [
    "#### Q.6) Task\n",
    "Read four numbers, a, b, c, and d, and print the result of a power b + c power d"
   ]
  },
  {
   "cell_type": "code",
   "execution_count": 14,
   "id": "ae0d722f",
   "metadata": {},
   "outputs": [
    {
     "name": "stdout",
     "output_type": "stream",
     "text": [
      "5\n",
      "5\n",
      "5\n",
      "5\n",
      "6250\n"
     ]
    }
   ],
   "source": [
    "a= int(input())\n",
    "b= int(input())\n",
    "c= int(input())\n",
    "d= int(input())\n",
    "\n",
    "print((a**b)+(c**d))"
   ]
  },
  {
   "cell_type": "markdown",
   "id": "785eb618",
   "metadata": {},
   "source": [
    "#### Q.7) Task: You are given a positive integer N. Print a numerical triangle of height N – 1 like the one below:"
   ]
  },
  {
   "cell_type": "code",
   "execution_count": 15,
   "id": "67b370f4",
   "metadata": {},
   "outputs": [
    {
     "name": "stdout",
     "output_type": "stream",
     "text": [
      "5\n",
      "1\n",
      "22\n",
      "333\n",
      "4444\n"
     ]
    }
   ],
   "source": [
    "for i in range(1,int(input())): #More than 2 lines will result in 0 score. Do not leave a blank line also\n",
    "    print(i*((10**i-1)//9))"
   ]
  },
  {
   "cell_type": "code",
   "execution_count": null,
   "id": "3655e16c",
   "metadata": {},
   "outputs": [],
   "source": []
  }
 ],
 "metadata": {
  "kernelspec": {
   "display_name": "Python 3 (ipykernel)",
   "language": "python",
   "name": "python3"
  },
  "language_info": {
   "codemirror_mode": {
    "name": "ipython",
    "version": 3
   },
   "file_extension": ".py",
   "mimetype": "text/x-python",
   "name": "python",
   "nbconvert_exporter": "python",
   "pygments_lexer": "ipython3",
   "version": "3.9.12"
  }
 },
 "nbformat": 4,
 "nbformat_minor": 5
}
