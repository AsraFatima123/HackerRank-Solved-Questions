{
 "cells": [
  {
   "cell_type": "markdown",
   "id": "975ab726",
   "metadata": {},
   "source": [
    "#### Q.1)Let’s learn about list comprehension! You are given three integers x, y, and z representing the dimensions of a cuboid along with an integer n. Print a list of all possible coordinates given by (i, j, k) on a 3D grid where the sum of i + j + k is not equal to n. Here, 0 <= i <= x; 0 <= j <= y; 0 <= k <= z. Please use list comprehensions rather than multiple loops, as a learning exercise."
   ]
  },
  {
   "cell_type": "code",
   "execution_count": 3,
   "id": "7ecb2051",
   "metadata": {},
   "outputs": [
    {
     "name": "stdout",
     "output_type": "stream",
     "text": [
      "2\n",
      "2\n",
      "2\n",
      "2\n",
      "[[0, 0, 0], [0, 0, 1], [0, 1, 0], [0, 1, 2], [0, 2, 1], [0, 2, 2], [1, 0, 0], [1, 0, 2], [1, 1, 1], [1, 1, 2], [1, 2, 0], [1, 2, 1], [1, 2, 2], [2, 0, 1], [2, 0, 2], [2, 1, 0], [2, 1, 1], [2, 1, 2], [2, 2, 0], [2, 2, 1], [2, 2, 2]]\n"
     ]
    }
   ],
   "source": [
    "# Method 1 : Using list comprehension:\n",
    "\n",
    "x=int(input())\n",
    "y=int(input())\n",
    "z=int(input())\n",
    "n=int(input())\n",
    "\n",
    "lst =[[i,j,k] for i in range(x+1) for j in range(y+1) for k in range(z+1) if (i+j+k)!=n]\n",
    "print(lst)"
   ]
  },
  {
   "cell_type": "code",
   "execution_count": 5,
   "id": "de4df2e3",
   "metadata": {},
   "outputs": [
    {
     "name": "stdout",
     "output_type": "stream",
     "text": [
      "2\n",
      "2\n",
      "2\n",
      "2\n",
      "[[0, 0, 0], [0, 0, 1], [0, 1, 0], [0, 1, 2], [0, 2, 1], [0, 2, 2], [1, 0, 0], [1, 0, 2], [1, 1, 1], [1, 1, 2], [1, 2, 0], [1, 2, 1], [1, 2, 2], [2, 0, 1], [2, 0, 2], [2, 1, 0], [2, 1, 1], [2, 1, 2], [2, 2, 0], [2, 2, 1], [2, 2, 2]]\n"
     ]
    }
   ],
   "source": [
    "#Method 2: using if\n",
    "\n",
    "x = int(input())\n",
    "y = int(input())\n",
    "z = int(input())\n",
    "n = int(input())\n",
    "l = []\n",
    "for i in range(x+1):\n",
    "    for j in range(y+1):\n",
    "        for k in range(z+1):\n",
    "            if i+j+k == n:\n",
    "                continue\n",
    "            l.append([i,j,k])                \n",
    "print(l)"
   ]
  },
  {
   "cell_type": "markdown",
   "id": "3fb036e3",
   "metadata": {},
   "source": [
    "#### Q2.) Given the participants' score sheet for your University Sports Day, you are required to find the runner-up score. You are given n scores. Store them in a list and find the score of the runner-up."
   ]
  },
  {
   "cell_type": "code",
   "execution_count": 10,
   "id": "4867f9fb",
   "metadata": {},
   "outputs": [
    {
     "name": "stdout",
     "output_type": "stream",
     "text": [
      "5 \n",
      "2 \n",
      "array= <map object at 0x000002B339713C10>\n"
     ]
    }
   ],
   "source": [
    "n=int(input())\n",
    "arr=map(int, input().split())\n",
    "print(\"array=\",arr)"
   ]
  },
  {
   "cell_type": "code",
   "execution_count": 14,
   "id": "c79cb01a",
   "metadata": {},
   "outputs": [
    {
     "name": "stdout",
     "output_type": "stream",
     "text": [
      "5\n",
      "2 4 4 5 3\n",
      "4\n"
     ]
    }
   ],
   "source": [
    "n=int(input())\n",
    "arr=input().split()\n",
    "set1=set(arr)\n",
    "list1=list(set1)\n",
    "list1.sort()\n",
    "print(list1[-2])"
   ]
  },
  {
   "cell_type": "code",
   "execution_count": 15,
   "id": "4f36a3ce",
   "metadata": {},
   "outputs": [
    {
     "name": "stdout",
     "output_type": "stream",
     "text": [
      "3\n",
      "2 1 0\n",
      "1\n"
     ]
    }
   ],
   "source": [
    "n = int(input())\n",
    "arr = map(int, input().split())\n",
    "arr2 = list(set(arr))\n",
    "arr2.sort()\n",
    "print(arr2[-2])  "
   ]
  },
  {
   "cell_type": "markdown",
   "id": "a433c226",
   "metadata": {},
   "source": [
    "#### Q3.) Given the names and grades for each student in a class of Nstudents, store them in a nested list and print the name(s) of any student(s) having the second lowest grade.\n",
    "\n",
    "Note: If there are multiple students with the second lowest grade, order their names alphabetically and print each name on a new line"
   ]
  },
  {
   "cell_type": "code",
   "execution_count": 16,
   "id": "90bbd733",
   "metadata": {},
   "outputs": [
    {
     "name": "stdout",
     "output_type": "stream",
     "text": [
      "3\n",
      "anna\n",
      "25\n",
      "bella\n",
      "23\n",
      "vita\n",
      "23\n",
      "anna\n"
     ]
    },
    {
     "data": {
      "text/plain": [
       "[None]"
      ]
     },
     "execution_count": 16,
     "metadata": {},
     "output_type": "execute_result"
    }
   ],
   "source": [
    "if __name__ == '__main__':\n",
    "    li = []\n",
    "    for _ in range(int(input())):\n",
    "        name = input()\n",
    "        score = float(input())\n",
    "        li.append([name,score])\n",
    "scr = [x[1] for x in li]\n",
    "min_li = sorted(set(scr))\n",
    "stud = sorted([y[0] for y in li if y[1]==min_li[1]])\n",
    "[print(k) for k in stud]"
   ]
  },
  {
   "cell_type": "markdown",
   "id": "29cf6a42",
   "metadata": {},
   "source": [
    "#### Q4.) Python Find the Percentage [Basic Data Types]\n",
    "The provided code stub will read in a dictionary containing key/value pairs of name:[marks] for a list of students. Print the average of the marks array for the student name provided, showing 2 places after the decimal."
   ]
  },
  {
   "cell_type": "code",
   "execution_count": 18,
   "id": "b044182a",
   "metadata": {},
   "outputs": [
    {
     "name": "stdout",
     "output_type": "stream",
     "text": [
      "3\n",
      "Anna 21 32 23\n",
      "bella 20 42 50\n",
      "bellavitta 2042 52\n",
      "bella\n",
      "37.33\n"
     ]
    }
   ],
   "source": [
    "if __name__ == '__main__':\n",
    "    n = int(input())\n",
    "    student_marks = {}\n",
    "    for _ in range(n):\n",
    "        name, *line = input().split()\n",
    "        scores = list(map(float, line))\n",
    "        student_marks[name] = scores\n",
    "    query_name = input()\n",
    "    avg1= float(sum(student_marks[query_name])/len(student_marks[query_name]))\n",
    "    print('%.2f' %avg1)"
   ]
  },
  {
   "cell_type": "markdown",
   "id": "3e47df26",
   "metadata": {},
   "source": [
    "#### Q5.) Python Lists [Basic Data Types]\n",
    "Consider a list (list = []). You can perform the following commands:\n",
    "\n",
    "- insert i e: Insert integer e at position i.\n",
    "- print: Print the list.\n",
    "- remove e: Delete the first occurrence of integer e.\n",
    "- append e: Insert integer e at the end of the list.\n",
    "- sort: Sort the list.\n",
    "- pop: Pop the last element from the list.\n",
    "- reverse: Reverse the list.\n",
    "\n",
    "- Initialize your list and read in the value of n followed by n lines of commands where each command will be of the 7 types listed above. Iterate through each command in order and perform the corresponding operation on your list."
   ]
  },
  {
   "cell_type": "code",
   "execution_count": 20,
   "id": "84e4f4cc",
   "metadata": {},
   "outputs": [
    {
     "name": "stdout",
     "output_type": "stream",
     "text": [
      "2\n",
      "insert 2 1\n",
      "append 3\n",
      "[1, 3]\n"
     ]
    }
   ],
   "source": [
    "if __name__ == '__main__':\n",
    "    N = int(input())\n",
    "    l = []\n",
    "    for i in range(N):\n",
    "        s = list(input().split())\n",
    "        if s[0]=='insert':\n",
    "            l.insert(int(s[1]),int(s[2]))\n",
    "        if s[0]=='remove':\n",
    "            l.remove(int(s[1]))\n",
    "        if s[0]=='append':\n",
    "            l.append(int(s[1]))\n",
    "        if s[0]=='sort':\n",
    "            l.sort()\n",
    "        if s[0]=='pop':\n",
    "            l.pop()\n",
    "        if s[0]=='reverse':\n",
    "            l.reverse()     \n",
    "        if s[0]=='print':\n",
    "            print(l)\n",
    "    print(l)"
   ]
  },
  {
   "cell_type": "markdown",
   "id": "669bce01",
   "metadata": {},
   "source": [
    "#### Q.6) Task\n",
    "Given an integer, , and  space-separated integers as input, create a tuple, , of those  integers. Then compute and print the result of .\n",
    "\n",
    "Note: hash() is one of the functions in the __builtins__ module, so it need not be imported."
   ]
  },
  {
   "cell_type": "code",
   "execution_count": 21,
   "id": "07bb0091",
   "metadata": {},
   "outputs": [
    {
     "name": "stdout",
     "output_type": "stream",
     "text": [
      "2\n",
      "1 2\n",
      "-3550055125485641917\n"
     ]
    }
   ],
   "source": [
    "n = int(input())\n",
    "integer_list = map(int, input().split())\n",
    "t=tuple(integer_list)\n",
    "print(hash(t))\n",
    "\n",
    "\n",
    "#### !!!!! DOUBT!!!!!!!!!!!"
   ]
  },
  {
   "cell_type": "markdown",
   "id": "7f44ebe7",
   "metadata": {},
   "source": [
    "#### Q.7) Now, let's use our knowledge of sets and help Mickey.\n",
    "\n",
    "Ms. Gabriel Williams is a botany professor at District College. One day, she asked her student Mickey to compute the average of all the plants with distinct heights in her greenhouse.\n",
    "\n",
    "Formula used:\n",
    "\n",
    "Function Description\n",
    "\n",
    "Complete the average function in the editor below.\n",
    "\n",
    "average has the following parameters:\n",
    "\n",
    "int arr: an array of integers"
   ]
  },
  {
   "cell_type": "code",
   "execution_count": 22,
   "id": "7b0e554a",
   "metadata": {},
   "outputs": [
    {
     "name": "stdout",
     "output_type": "stream",
     "text": [
      "5\n",
      "1 2 3 5 4\n",
      "3.0\n"
     ]
    }
   ],
   "source": [
    "def average(array):\n",
    "    # your code goes here\n",
    "    set1=set(array)\n",
    "    sum=0\n",
    "    for i in set1:\n",
    "        sum=sum+i\n",
    "    avg=sum/len(set1)\n",
    "    return avg\n",
    "if __name__ == '__main__':\n",
    "    n = int(input())\n",
    "    arr = list(map(int, input().split()))\n",
    "    result = average(arr)\n",
    "    print(result)"
   ]
  },
  {
   "cell_type": "markdown",
   "id": "3b5fff40",
   "metadata": {},
   "source": [
    "#### Q.8) No Idea \n",
    "There is an array of n integers. There are also 2 disjoint sets, A and B, each containing m integers. You like all the integers in set A and dislike all the integers in set B. Your initial happiness is 0. For each i integer in the array, if i belongs to A, you add 1 to your happiness. If i belongs to B, you add -1 to your happiness. Otherwise, your happiness does not change. Output your final happiness at the end.\n",
    "\n",
    "Note: Since A and B are set, they have no repeated elements. However, the array might contain duplicate elements."
   ]
  },
  {
   "cell_type": "code",
   "execution_count": 23,
   "id": "e835f372",
   "metadata": {},
   "outputs": [
    {
     "name": "stdout",
     "output_type": "stream",
     "text": [
      "123546879\n",
      "1253\n",
      "56986\n",
      "12255\n",
      "0\n"
     ]
    }
   ],
   "source": [
    "a=input().split(' ')\n",
    "l=([int(i) for i in input().split(' ')])\n",
    "\n",
    "# converting to set\n",
    "firstset=set([int(i) for i in input().split(' ')])\n",
    "secondset=set([int(i) for i in input().split(' ')])\n",
    "\n",
    "# initalizing with zero\n",
    "p=0\n",
    "\n",
    "# using for loop with if statements \n",
    "for i in l:\n",
    "    if i in firstset:\n",
    "        p+=1\n",
    "    if i in secondset:\n",
    "        p-=1\n",
    "        \n",
    "# printing\n",
    "print(p)"
   ]
  },
  {
   "cell_type": "markdown",
   "id": "e80e0024",
   "metadata": {},
   "source": [
    "#### Q.9) Task\n",
    "Given  sets of integers,  and , print their symmetric difference in ascending order. The term symmetric difference indicates those values that exist in either  or  but do not exist in both."
   ]
  },
  {
   "cell_type": "code",
   "execution_count": 26,
   "id": "ec548d55",
   "metadata": {},
   "outputs": [
    {
     "name": "stdout",
     "output_type": "stream",
     "text": [
      "2\n",
      "12356\n",
      "13564\n",
      "13554\n",
      "12356\n",
      "13554\n"
     ]
    }
   ],
   "source": [
    "M = int(input())\n",
    "mset = set(map(int, input().split()))\n",
    "N = int(input())\n",
    "nset = set(map(int, input().split()))\n",
    "\n",
    "mdef = mset.difference(nset)\n",
    "ndef = nset.difference(mset)\n",
    "\n",
    "output = mdef.union(ndef)\n",
    "\n",
    "for i in sorted(list(output)):\n",
    "    print(i)"
   ]
  },
  {
   "cell_type": "markdown",
   "id": "90c3e1d9",
   "metadata": {},
   "source": [
    "#### Q.10) Apply your knowledge of the .add() operation to help your friend Rupal.\n",
    "\n",
    "Rupal has a huge collection of country stamps. She decided to count the total number of distinct country stamps in her collection. She asked for your help. You pick the stamps one by one from a stack of  country stamps.\n",
    "\n",
    "Find the total number of distinct country stamps."
   ]
  },
  {
   "cell_type": "code",
   "execution_count": 1,
   "id": "4d54cf6f",
   "metadata": {},
   "outputs": [
    {
     "name": "stdout",
     "output_type": "stream",
     "text": [
      "3\n",
      "India\n",
      "Pakistan\n",
      "Pakistan\n",
      "2\n"
     ]
    }
   ],
   "source": [
    "n=int(input())\n",
    "countries=set()\n",
    "for i in range(n):\n",
    "    countries.add(input())\n",
    "print(len(countries))"
   ]
  },
  {
   "cell_type": "markdown",
   "id": "24d30689",
   "metadata": {},
   "source": [
    "#### Q.11) You have a non-empty set , and you have to execute  commands given in  lines.\n",
    "\n",
    "The commands will be pop, remove and discard."
   ]
  },
  {
   "cell_type": "code",
   "execution_count": 4,
   "id": "32390e49",
   "metadata": {},
   "outputs": [
    {
     "name": "stdout",
     "output_type": "stream",
     "text": [
      "Enter the number of elements in the set\n",
      "5\n",
      "Enter the elements of set that are non-negative integers, less than or equal to 9\n",
      "1 2 3 4 5\n",
      "Enter the number of commands\n",
      "3\n",
      "Enter the command\n",
      "pop\n",
      "Enter the command\n",
      "remove 4\n",
      "Enter the command\n",
      "remove 3\n",
      "{2, 5}\n",
      "7\n"
     ]
    }
   ],
   "source": [
    "print(\"Enter the number of elements in the set\")\n",
    "n = input()\n",
    "print(\"Enter the elements of set that are non-negative integers, less than or equal to 9\")\n",
    "s = set(map(int, input().split())) \n",
    "print(\"Enter the number of commands\")\n",
    "a = int(input())\n",
    "\n",
    "for i in range(a):\n",
    "    k = []\n",
    "    print(\"Enter the command\")\n",
    "    k = input().split()\n",
    "    if k[0] == 'pop':\n",
    "        s.pop()\n",
    "    elif k[0] == 'remove':\n",
    "        s.remove(int(k[1]))\n",
    "    elif k[0] == 'discard':\n",
    "        s.discard(int(k[1]))\n",
    "    else:\n",
    "        print('not a command')\n",
    "print(s)\n",
    "print(sum(s))"
   ]
  },
  {
   "cell_type": "markdown",
   "id": "8016dada",
   "metadata": {},
   "source": [
    "#### Q.12) Task\n",
    "The students of District College have subscriptions to English and French newspapers. Some students have subscribed only to English, some have subscribed to only French and some have subscribed to both newspapers.\n",
    "\n",
    "You are given two sets of student roll numbers. One set has subscribed to the English newspaper, and the other set is subscribed to the French newspaper. The same student could be in both sets. Your task is to find the total number of students who have subscribed to at least one newspaper.\n",
    "\n",
    "Input Format\n",
    "\n",
    "The first line contains an integer, , the number of students who have subscribed to the English newspaper.\n",
    "The second line contains  space separated roll numbers of those students.\n",
    "The third line contains , the number of students who have subscribed to the French newspaper.\n",
    "The fourth line contains  space separated roll numbers of those students."
   ]
  },
  {
   "cell_type": "code",
   "execution_count": 5,
   "id": "b5d4785d",
   "metadata": {},
   "outputs": [
    {
     "name": "stdout",
     "output_type": "stream",
     "text": [
      "Enter the number of students who have subscribed to English newspaper\n",
      "5\n",
      "Enter the roll nos. space separated\n",
      "1 2 3 4 5\n",
      "Enter the number of students who have subscribed to French newspaper\n",
      "5\n",
      "Enter the roll nos. space separated\n",
      "2 3 6 9 8\n",
      "8\n"
     ]
    }
   ],
   "source": [
    "print(\"Enter the number of students who have subscribed to English newspaper\")\n",
    "n=int(input())\n",
    "print(\"Enter the roll nos. space separated\")\n",
    "k = set(input().split())\n",
    "print(\"Enter the number of students who have subscribed to French newspaper\")\n",
    "b=int(input())\n",
    "print(\"Enter the roll nos. space separated\")\n",
    "f = set(input().split())\n",
    "\n",
    "union_set=k.union(f)\n",
    "total=len(union_set)\n",
    "print(total)"
   ]
  },
  {
   "cell_type": "markdown",
   "id": "364318d0",
   "metadata": {},
   "source": [
    "#### Q.13) Task\n",
    "The students of District College have subscriptions to English and French newspapers. Some students have subscribed only to English, some have subscribed only to French, and some have subscribed to both newspapers.\n",
    "\n",
    "You are given two sets of student roll numbers. One set has subscribed to the English newspaper, one set has subscribed to the French newspaper. Your task is to find the total number of students who have subscribed to both newspapers.\n",
    "\n",
    "Input Format\n",
    "\n",
    "The first line contains , the number of students who have subscribed to the English newspaper.\n",
    "The second line contains  space separated roll numbers of those students.\n",
    "The third line contains , the number of students who have subscribed to the French newspaper.\n",
    "The fourth line contains  space separated roll numbers of those students."
   ]
  },
  {
   "cell_type": "code",
   "execution_count": 6,
   "id": "bb5e7c80",
   "metadata": {},
   "outputs": [
    {
     "name": "stdout",
     "output_type": "stream",
     "text": [
      "Enter the number of students who have subscribed to English newspaper\n",
      "5\n",
      "Enter the roll nos. space separated\n",
      "5 3 4 6 2\n",
      "Enter the number of students who have subscribed to French newspaper\n",
      "5\n",
      "Enter the roll nos. space separated\n",
      "1 2 3 9 8\n",
      "2\n"
     ]
    }
   ],
   "source": [
    "print(\"Enter the number of students who have subscribed to English newspaper\")\n",
    "n=int(input())\n",
    "print(\"Enter the roll nos. space separated\")\n",
    "k = set(input().split())\n",
    "print(\"Enter the number of students who have subscribed to French newspaper\")\n",
    "b=int(input())\n",
    "print(\"Enter the roll nos. space separated\")\n",
    "f = set(input().split())\n",
    "\n",
    "inters_set=k.intersection(f)\n",
    "total=len(inters_set)\n",
    "print(total)"
   ]
  },
  {
   "cell_type": "markdown",
   "id": "2715777f",
   "metadata": {},
   "source": [
    "#### Q.14) Task\n",
    "Students of District College have a subscription to English and French newspapers. Some students have subscribed to only the English newspaper, some have subscribed to only the French newspaper, and some have subscribed to both newspapers.\n",
    "\n",
    "You are given two sets of student roll numbers. One set has subscribed to the English newspaper, and one set has subscribed to the French newspaper. Your task is to find the total number of students who have subscribed to only English newspapers.\n",
    "\n",
    "Input Format\n",
    "\n",
    "The first line contains the number of students who have subscribed to the English newspaper.\n",
    "The second line contains the space separated list of student roll numbers who have subscribed to the English newspaper.\n",
    "The third line contains the number of students who have subscribed to the French newspaper.\n",
    "The fourth line contains the space separated list of student roll numbers who have subscribed to the French newspaper."
   ]
  },
  {
   "cell_type": "code",
   "execution_count": 8,
   "id": "8407bc76",
   "metadata": {},
   "outputs": [
    {
     "name": "stdout",
     "output_type": "stream",
     "text": [
      "Enter the number of students who have subscribed to English newspaper\n",
      "5\n",
      "Enter the roll nos. space separated\n",
      "1 2 3 4 5\n",
      "Enter the number of students who have subscribed to French newspaper\n",
      "5\n",
      "Enter the roll nos. space separated\n",
      "5 3 6 9 8\n",
      "3\n"
     ]
    }
   ],
   "source": [
    "print(\"Enter the number of students who have subscribed to English newspaper\")\n",
    "n=int(input())\n",
    "print(\"Enter the roll nos. space separated\")\n",
    "k = set(input().split())\n",
    "print(\"Enter the number of students who have subscribed to French newspaper\")\n",
    "b=int(input())\n",
    "print(\"Enter the roll nos. space separated\")\n",
    "f = set(input().split())\n",
    "\n",
    "diff_set=k.difference(f)\n",
    "total=len(diff_set)\n",
    "print(total)"
   ]
  },
  {
   "cell_type": "code",
   "execution_count": 11,
   "id": "c85b673c",
   "metadata": {},
   "outputs": [
    {
     "name": "stdout",
     "output_type": "stream",
     "text": [
      "{'e', 'c', 'H'}\n"
     ]
    }
   ],
   "source": [
    "s = set(\"Hacker\")\n",
    "print (s.difference(\"rank\"))"
   ]
  },
  {
   "cell_type": "code",
   "execution_count": 12,
   "id": "c13b51a1",
   "metadata": {},
   "outputs": [
    {
     "name": "stdout",
     "output_type": "stream",
     "text": [
      "{'e', 'c', 'H', 'r'}\n"
     ]
    }
   ],
   "source": [
    "s = set(\"Hacker\")\n",
    "print (s.difference(\"Rank\"))"
   ]
  },
  {
   "cell_type": "markdown",
   "id": "ede131da",
   "metadata": {},
   "source": [
    "#### Q.15) Task\n",
    "Students of District College have subscriptions to English and French newspapers. Some students have subscribed to English only, some have subscribed to French only, and some have subscribed to both newspapers.\n",
    "\n",
    "You are given two sets of student roll numbers. One set has subscribed to the English newspaper, and one set has subscribed to the French newspaper. Your task is to find the total number of students who have subscribed to either the English or the French newspaper but not both.\n",
    "\n",
    "Input Format\n",
    "\n",
    "The first line contains the number of students who have subscribed to the English newspaper.\n",
    "The second line contains the space separated list of student roll numbers who have subscribed to the English newspaper.\n",
    "The third line contains the number of students who have subscribed to the French newspaper.\n",
    "The fourth line contains the space separated list of student roll numbers who have subscribed to the French newspaper."
   ]
  },
  {
   "cell_type": "code",
   "execution_count": 13,
   "id": "1333f770",
   "metadata": {},
   "outputs": [
    {
     "name": "stdout",
     "output_type": "stream",
     "text": [
      "Enter the number of students who have subscribed to English newspaper\n",
      "5\n",
      "Enter the roll nos. space separated\n",
      "1 2 3 4 5\n",
      "Enter the number of students who have subscribed to French newspaper\n",
      "5\n",
      "Enter the roll nos. space separated\n",
      "2 3 5 6 9\n",
      "4\n"
     ]
    }
   ],
   "source": [
    "print(\"Enter the number of students who have subscribed to English newspaper\")\n",
    "n=int(input())\n",
    "print(\"Enter the roll nos. space separated\")\n",
    "k = set(input().split())\n",
    "print(\"Enter the number of students who have subscribed to French newspaper\")\n",
    "b=int(input())\n",
    "print(\"Enter the roll nos. space separated\")\n",
    "f = set(input().split())\n",
    "\n",
    "sym_diff_set=k.symmetric_difference(f)\n",
    "total=len(sym_diff_set)\n",
    "print(total)"
   ]
  },
  {
   "cell_type": "markdown",
   "id": "e9acbe9f",
   "metadata": {},
   "source": [
    "#### Q.16) TASK\n",
    "You are given a set  and  number of other sets. These  number of sets have to perform some specific mutation operations on set .\n",
    "\n",
    "Your task is to execute those operations and print the sum of elements from set .\n",
    "\n",
    "Input Format\n",
    "\n",
    "The first line contains the number of elements in set .\n",
    "The second line contains the space separated list of elements in set .\n",
    "The third line contains integer , the number of other sets.\n",
    "The next  lines are divided into  parts containing two lines each.\n",
    "The first line of each part contains the space separated entries of the operation name and the length of the other set.\n",
    "The second line of each part contains space separated list of elements in the other set."
   ]
  },
  {
   "cell_type": "code",
   "execution_count": 14,
   "id": "b0e1128f",
   "metadata": {},
   "outputs": [
    {
     "ename": "KeyboardInterrupt",
     "evalue": "Interrupted by user",
     "output_type": "error",
     "traceback": [
      "\u001b[1;31m---------------------------------------------------------------------------\u001b[0m",
      "\u001b[1;31mKeyboardInterrupt\u001b[0m                         Traceback (most recent call last)",
      "Input \u001b[1;32mIn [14]\u001b[0m, in \u001b[0;36m<cell line: 1>\u001b[1;34m()\u001b[0m\n\u001b[1;32m----> 1\u001b[0m len_set \u001b[38;5;241m=\u001b[39m \u001b[38;5;28mint\u001b[39m(\u001b[38;5;28;43minput\u001b[39;49m\u001b[43m(\u001b[49m\u001b[43m)\u001b[49m)\n\u001b[0;32m      3\u001b[0m storage \u001b[38;5;241m=\u001b[39m \u001b[38;5;28mset\u001b[39m(\u001b[38;5;28mmap\u001b[39m(\u001b[38;5;28mint\u001b[39m, \u001b[38;5;28minput\u001b[39m()\u001b[38;5;241m.\u001b[39msplit()))\n\u001b[0;32m      5\u001b[0m op_len \u001b[38;5;241m=\u001b[39m \u001b[38;5;28mint\u001b[39m(\u001b[38;5;28minput\u001b[39m())\n",
      "File \u001b[1;32m~\\anaconda3\\lib\\site-packages\\ipykernel\\kernelbase.py:1075\u001b[0m, in \u001b[0;36mKernel.raw_input\u001b[1;34m(self, prompt)\u001b[0m\n\u001b[0;32m   1071\u001b[0m \u001b[38;5;28;01mif\u001b[39;00m \u001b[38;5;129;01mnot\u001b[39;00m \u001b[38;5;28mself\u001b[39m\u001b[38;5;241m.\u001b[39m_allow_stdin:\n\u001b[0;32m   1072\u001b[0m     \u001b[38;5;28;01mraise\u001b[39;00m StdinNotImplementedError(\n\u001b[0;32m   1073\u001b[0m         \u001b[38;5;124m\"\u001b[39m\u001b[38;5;124mraw_input was called, but this frontend does not support input requests.\u001b[39m\u001b[38;5;124m\"\u001b[39m\n\u001b[0;32m   1074\u001b[0m     )\n\u001b[1;32m-> 1075\u001b[0m \u001b[38;5;28;01mreturn\u001b[39;00m \u001b[38;5;28;43mself\u001b[39;49m\u001b[38;5;241;43m.\u001b[39;49m\u001b[43m_input_request\u001b[49m\u001b[43m(\u001b[49m\n\u001b[0;32m   1076\u001b[0m \u001b[43m    \u001b[49m\u001b[38;5;28;43mstr\u001b[39;49m\u001b[43m(\u001b[49m\u001b[43mprompt\u001b[49m\u001b[43m)\u001b[49m\u001b[43m,\u001b[49m\n\u001b[0;32m   1077\u001b[0m \u001b[43m    \u001b[49m\u001b[38;5;28;43mself\u001b[39;49m\u001b[38;5;241;43m.\u001b[39;49m\u001b[43m_parent_ident\u001b[49m\u001b[43m[\u001b[49m\u001b[38;5;124;43m\"\u001b[39;49m\u001b[38;5;124;43mshell\u001b[39;49m\u001b[38;5;124;43m\"\u001b[39;49m\u001b[43m]\u001b[49m\u001b[43m,\u001b[49m\n\u001b[0;32m   1078\u001b[0m \u001b[43m    \u001b[49m\u001b[38;5;28;43mself\u001b[39;49m\u001b[38;5;241;43m.\u001b[39;49m\u001b[43mget_parent\u001b[49m\u001b[43m(\u001b[49m\u001b[38;5;124;43m\"\u001b[39;49m\u001b[38;5;124;43mshell\u001b[39;49m\u001b[38;5;124;43m\"\u001b[39;49m\u001b[43m)\u001b[49m\u001b[43m,\u001b[49m\n\u001b[0;32m   1079\u001b[0m \u001b[43m    \u001b[49m\u001b[43mpassword\u001b[49m\u001b[38;5;241;43m=\u001b[39;49m\u001b[38;5;28;43;01mFalse\u001b[39;49;00m\u001b[43m,\u001b[49m\n\u001b[0;32m   1080\u001b[0m \u001b[43m\u001b[49m\u001b[43m)\u001b[49m\n",
      "File \u001b[1;32m~\\anaconda3\\lib\\site-packages\\ipykernel\\kernelbase.py:1120\u001b[0m, in \u001b[0;36mKernel._input_request\u001b[1;34m(self, prompt, ident, parent, password)\u001b[0m\n\u001b[0;32m   1117\u001b[0m             \u001b[38;5;28;01mbreak\u001b[39;00m\n\u001b[0;32m   1118\u001b[0m \u001b[38;5;28;01mexcept\u001b[39;00m \u001b[38;5;167;01mKeyboardInterrupt\u001b[39;00m:\n\u001b[0;32m   1119\u001b[0m     \u001b[38;5;66;03m# re-raise KeyboardInterrupt, to truncate traceback\u001b[39;00m\n\u001b[1;32m-> 1120\u001b[0m     \u001b[38;5;28;01mraise\u001b[39;00m \u001b[38;5;167;01mKeyboardInterrupt\u001b[39;00m(\u001b[38;5;124m\"\u001b[39m\u001b[38;5;124mInterrupted by user\u001b[39m\u001b[38;5;124m\"\u001b[39m) \u001b[38;5;28;01mfrom\u001b[39;00m \u001b[38;5;28mNone\u001b[39m\n\u001b[0;32m   1121\u001b[0m \u001b[38;5;28;01mexcept\u001b[39;00m \u001b[38;5;167;01mException\u001b[39;00m:\n\u001b[0;32m   1122\u001b[0m     \u001b[38;5;28mself\u001b[39m\u001b[38;5;241m.\u001b[39mlog\u001b[38;5;241m.\u001b[39mwarning(\u001b[38;5;124m\"\u001b[39m\u001b[38;5;124mInvalid Message:\u001b[39m\u001b[38;5;124m\"\u001b[39m, exc_info\u001b[38;5;241m=\u001b[39m\u001b[38;5;28;01mTrue\u001b[39;00m)\n",
      "\u001b[1;31mKeyboardInterrupt\u001b[0m: Interrupted by user"
     ]
    }
   ],
   "source": [
    "len_set = int(input())\n",
    "\n",
    "storage = set(map(int, input().split()))\n",
    "\n",
    "op_len = int(input())\n",
    "\n",
    "for i in range(op_len):\n",
    "    operation = input().split()\n",
    "    if operation[0] == 'intersection_update':\n",
    "        temp_storage = set(map(int, input().split()))\n",
    "        storage.intersection_update(temp_storage)\n",
    "    elif operation[0] == 'update':\n",
    "        temp_storage = set(map(int, input().split()))\n",
    "        storage.update(temp_storage)\n",
    "    elif operation[0] == 'symmetric_difference_update':\n",
    "        temp_storage = set(map(int, input().split()))\n",
    "        storage.symmetric_difference_update(temp_storage)\n",
    "    elif operation[0] == 'difference_update':\n",
    "        temp_storage = set(map(int, input().split()))\n",
    "        storage.difference_update(temp_storage)\n",
    "    else :\n",
    "        assert False\n",
    "\n",
    "print(sum(storage))"
   ]
  },
  {
   "cell_type": "markdown",
   "id": "b617a272",
   "metadata": {},
   "source": [
    "#### Q.17) Mr. Anant Asankhya is the manager at the INFINITE hotel. The hotel has an infinite amount of rooms.\n",
    "\n",
    "One fine day, a finite number of tourists come to stay at the hotel.\n",
    "The tourists consist of:\n",
    "→ A Captain.\n",
    "→ An unknown group of families consisting of  members per group where  ≠ .\n",
    "\n",
    "The Captain was given a separate room, and the rest were given one room per group.\n",
    "\n",
    "Mr. Anant has an unordered list of randomly arranged room entries. The list consists of the room numbers for all of the tourists. The room numbers will appear  times per group except for the Captain's room.\n",
    "\n",
    "Mr. Anant needs you to help him find the Captain's room number.\n",
    "The total number of tourists or the total number of groups of families is not known to you.\n",
    "You only know the value of  and the room number list."
   ]
  },
  {
   "cell_type": "code",
   "execution_count": 15,
   "id": "5e7b87c8",
   "metadata": {},
   "outputs": [
    {
     "name": "stdout",
     "output_type": "stream",
     "text": [
      "5\n",
      "1 2 3 5 4 6 5 6 5 6 8 6 5\n",
      "3\n"
     ]
    }
   ],
   "source": [
    "N = input()\n",
    "ROOM_LIST = input().split()\n",
    "ROOM_SET = set(ROOM_LIST)\n",
    "\n",
    "for ele in list(ROOM_SET):\n",
    "    ROOM_LIST.remove(ele)\n",
    "\n",
    "CAPTAIN_ROOM_NUM = ROOM_SET.difference(set(ROOM_LIST)).pop() #pop removes and returns an arbitrary number\n",
    "print(CAPTAIN_ROOM_NUM)"
   ]
  },
  {
   "cell_type": "markdown",
   "id": "eeddc7b8",
   "metadata": {},
   "source": [
    "#### Q.18) You are given two sets,  and .\n",
    "Your job is to find whether set  is a subset of set .\n",
    "\n",
    "If set  is subset of set , print True.\n",
    "If set  is not a subset of set , print False.\n",
    "\n",
    "Input Format\n",
    "\n",
    "The first line will contain the number of test cases, .\n",
    "The first line of each test case contains the number of elements in set .\n",
    "The second line of each test case contains the space separated elements of set .\n",
    "The third line of each test case contains the number of elements in set .\n",
    "The fourth line of each test case contains the space separated elements of set ."
   ]
  },
  {
   "cell_type": "code",
   "execution_count": null,
   "id": "d93e2333",
   "metadata": {},
   "outputs": [],
   "source": [
    "for i in range(int(input())): \n",
    "    a = int(input())\n",
    "    A = set(input().split())\n",
    "    b = int(input())\n",
    "    B = set(input().split())\n",
    "    if A.issubset(B) : \n",
    "        print('True')\n",
    "    else :\n",
    "        print('False') "
   ]
  },
  {
   "cell_type": "markdown",
   "id": "62dee3cc",
   "metadata": {},
   "source": [
    "#### Q.19) You are given a set  and  other sets.\n",
    "Your job is to find whether set  is a strict superset of each of the  sets.\n",
    "\n",
    "Print True, if  is a strict superset of each of the  sets. Otherwise, print False.\n",
    "\n",
    "A strict superset has at least one element that does not exist in its subset."
   ]
  },
  {
   "cell_type": "code",
   "execution_count": null,
   "id": "3636c0d9",
   "metadata": {},
   "outputs": [],
   "source": [
    "storage = set(input().split())\n",
    "N = int(input())\n",
    "output = True\n",
    "\n",
    "for i in range(N):\n",
    "    storage2 = set(input().split())\n",
    "    if not storage2.issubset(storage):\n",
    "        output = False\n",
    "    if len(storage2) >= len(storage):\n",
    "        output = False\n",
    "\n",
    "print(output)"
   ]
  }
 ],
 "metadata": {
  "kernelspec": {
   "display_name": "Python 3 (ipykernel)",
   "language": "python",
   "name": "python3"
  },
  "language_info": {
   "codemirror_mode": {
    "name": "ipython",
    "version": 3
   },
   "file_extension": ".py",
   "mimetype": "text/x-python",
   "name": "python",
   "nbconvert_exporter": "python",
   "pygments_lexer": "ipython3",
   "version": "3.9.12"
  }
 },
 "nbformat": 4,
 "nbformat_minor": 5
}
