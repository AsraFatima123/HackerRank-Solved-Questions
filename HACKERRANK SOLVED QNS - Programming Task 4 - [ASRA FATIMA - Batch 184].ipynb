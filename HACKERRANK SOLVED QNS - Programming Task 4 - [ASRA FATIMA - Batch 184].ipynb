{
 "cells": [
  {
   "cell_type": "markdown",
   "id": "c5621066",
   "metadata": {},
   "source": [
    "#### Q.1) You are given a string and your task is to swap cases. In other words, convert all lowercase letters to uppercase letters and vice versa."
   ]
  },
  {
   "cell_type": "code",
   "execution_count": 1,
   "id": "3e476be5",
   "metadata": {},
   "outputs": [
    {
     "name": "stdout",
     "output_type": "stream",
     "text": [
      "my Name is asra fatima!\n",
      "MY nAME IS ASRA FATIMA!\n"
     ]
    }
   ],
   "source": [
    "def swap_case(s):\n",
    "    return s.swapcase()\n",
    "if __name__ == '__main__':\n",
    "    s = input()\n",
    "    result = swap_case(s)\n",
    "    print(result)"
   ]
  },
  {
   "cell_type": "markdown",
   "id": "051e99a0",
   "metadata": {},
   "source": [
    "#### Q.2) You are given a string. Split the string on a \" \" (space) delimiter and join using a - hyphen."
   ]
  },
  {
   "cell_type": "code",
   "execution_count": 3,
   "id": "fc8a7907",
   "metadata": {},
   "outputs": [
    {
     "name": "stdout",
     "output_type": "stream",
     "text": [
      "a for apple\n",
      "a-for-apple\n"
     ]
    }
   ],
   "source": [
    "def split_and_join(line):\n",
    "    # write your code here\n",
    "    a1=line.split(\" \")\n",
    "    a2=\"-\".join(a1)\n",
    "    return a2\n",
    "\n",
    "if __name__ == '__main__':\n",
    "    line = input()\n",
    "    result = split_and_join(line)\n",
    "    print(result)"
   ]
  },
  {
   "cell_type": "markdown",
   "id": "0079486a",
   "metadata": {},
   "source": [
    "#### Q.3) You are given the firstname and lastname of a person on two different lines. Your task is to read them and print the following: Hello firstname lastname! You just delved into python.\n",
    "\n"
   ]
  },
  {
   "cell_type": "code",
   "execution_count": 4,
   "id": "a8d6c1c0",
   "metadata": {},
   "outputs": [
    {
     "name": "stdout",
     "output_type": "stream",
     "text": [
      "asra fatima\n",
      "the great\n",
      "Hello asra fatima the great! You just delved into python.\n"
     ]
    }
   ],
   "source": [
    "def print_full_name(first, last):\n",
    "    # Write your code here\n",
    "    print(f'Hello {first} {last}! You just delved into python.')\n",
    "\n",
    "if __name__ == '__main__':\n",
    "    first_name = input()\n",
    "    last_name = input()\n",
    "    print_full_name(first_name, last_name)"
   ]
  },
  {
   "cell_type": "markdown",
   "id": "04fb5f77",
   "metadata": {},
   "source": [
    "#### Q.4) Task\n",
    "- Read a given string, change the character at a given index and then print the modified string.\n",
    "\n",
    "- Function Description\n",
    "\n",
    "- Complete the mutate_string function in the editor below.\n",
    "\n",
    "- mutate_string has the following parameters:\n",
    "\n",
    "- string string: the string to change\n",
    "- int position: the index to insert the character at\n",
    "- string character: the character to insert\n",
    "- Returns\n",
    "\n",
    "- string: the altered string\n",
    "- Input Format\n",
    "- The first line contains a string, string.\n",
    "- The next line contains an integer position, the index location and a string character, separated by a space."
   ]
  },
  {
   "cell_type": "code",
   "execution_count": 5,
   "id": "20cd327e",
   "metadata": {},
   "outputs": [
    {
     "name": "stdout",
     "output_type": "stream",
     "text": [
      "abracadabra\n",
      "5 j\n",
      "abracjdabra\n"
     ]
    }
   ],
   "source": [
    "def mutate_string(string, position, character):\n",
    "    l1=list(string)\n",
    "    l1[position]=character\n",
    "    final_str=\"\".join(l1)\n",
    "    return final_str\n",
    "\n",
    "if __name__ == '__main__':\n",
    "    s = input()\n",
    "    i, c = input().split()\n",
    "    s_new = mutate_string(s, int(i), c)\n",
    "    print(s_new)"
   ]
  },
  {
   "cell_type": "markdown",
   "id": "ca5e9124",
   "metadata": {},
   "source": [
    "#### Q.5) In this challenge, the user enters a string and a substring. You have to print the number of times that the substring occurs in the given string. String traversal will take place from left to right, not from right to left."
   ]
  },
  {
   "cell_type": "code",
   "execution_count": 8,
   "id": "d7b897b7",
   "metadata": {},
   "outputs": [
    {
     "data": {
      "text/plain": [
       "True"
      ]
     },
     "execution_count": 8,
     "metadata": {},
     "output_type": "execute_result"
    }
   ],
   "source": [
    "s1=\"abcdefghi\"\n",
    "s1.startswith(\"abc\") #returns true or false"
   ]
  },
  {
   "cell_type": "code",
   "execution_count": 10,
   "id": "8863bbd8",
   "metadata": {},
   "outputs": [
    {
     "data": {
      "text/plain": [
       "5"
      ]
     },
     "execution_count": 10,
     "metadata": {},
     "output_type": "execute_result"
    }
   ],
   "source": [
    "s1=\"abcdefghi\"\n",
    "s1.find(\"fgh\") # returns index val"
   ]
  },
  {
   "cell_type": "code",
   "execution_count": 16,
   "id": "44291d2f",
   "metadata": {},
   "outputs": [
    {
     "name": "stdout",
     "output_type": "stream",
     "text": [
      "abcdcdef\n",
      "cd\n",
      "2\n"
     ]
    }
   ],
   "source": [
    "def count_substring(string, sub_string):\n",
    "    count=0\n",
    "    for i in range(len(string)):\n",
    "        if string[i:].startswith(sub_string):\n",
    "            count =count+1\n",
    "    return count\n",
    "\n",
    "if __name__ == '__main__':\n",
    "    string = input().strip()\n",
    "    sub_string = input().strip()\n",
    "    \n",
    "    count = count_substring(string, sub_string)\n",
    "    print(count)"
   ]
  },
  {
   "cell_type": "code",
   "execution_count": 14,
   "id": "80a79ed0",
   "metadata": {},
   "outputs": [
    {
     "name": "stdout",
     "output_type": "stream",
     "text": [
      "abcdefcd\n",
      "cd\n",
      "2\n"
     ]
    }
   ],
   "source": [
    "def count_substring(string, sub_string):\n",
    "    return sum(string[i:].startswith(sub_string) for i in range(len(string)))\n",
    "\n",
    "if __name__ == '__main__':\n",
    "    string = input().strip()\n",
    "    sub_string = input().strip()\n",
    "    \n",
    "    count = count_substring(string, sub_string)\n",
    "    print(count)"
   ]
  },
  {
   "cell_type": "markdown",
   "id": "24366cff",
   "metadata": {},
   "source": [
    "#### Q.6) Task\n",
    "\n",
    "You are given a string S.\n",
    "\n",
    "Your task is to find out if the string S contains: alphanumeric characters, alphabetical characters, digits, lowercase and uppercase characters.\n",
    "\n",
    "\n",
    "Input Format\n",
    "\n",
    "A single line containing a string S.\n",
    "\n",
    "- In the first line, print True if S has any alphanumeric characters. Otherwise, print False.\n",
    "- In the second line, print True if S has any alphabetical characters. Otherwise, print False.\n",
    "- In the third line, print True if S has any digits. Otherwise, print False.\n",
    "- In the fourth line, print True if S has any lowercase characters. Otherwise, print False.\n",
    "- In the fifth line, print True if S has any uppercase characters. Otherwise, print False."
   ]
  },
  {
   "cell_type": "code",
   "execution_count": 18,
   "id": "20e70c20",
   "metadata": {},
   "outputs": [
    {
     "name": "stdout",
     "output_type": "stream",
     "text": [
      "asra1\n",
      "True\n",
      "True\n",
      "True\n",
      "True\n",
      "False\n"
     ]
    }
   ],
   "source": [
    "if __name__ == '__main__':\n",
    "    s = input()\n",
    "\n",
    "strr = list(s)\n",
    "\n",
    "al_num = False\n",
    "al = False\n",
    "dig = False\n",
    "low = False\n",
    "upp = False\n",
    "\n",
    "for i in strr:\n",
    "    al_num = al_num or i.isalnum() \n",
    "    al  = al or i.isalpha()\n",
    "    dig = dig or i.isdigit()\n",
    "    low = low or i.islower()\n",
    "    upp = upp or i.isupper()\n",
    "\n",
    "print(al_num)\n",
    "print(al)\n",
    "print(dig)\n",
    "print(low)\n",
    "print(upp)"
   ]
  },
  {
   "cell_type": "markdown",
   "id": "c89cd96e",
   "metadata": {},
   "source": [
    "#### Q.7) Task\n",
    "\n",
    "You are given a partial code that is used for generating the HackerRank Logo of variable thickness.\n",
    "Your task is to replace the blank (______) with rjust, ljust or center.\n",
    "\n",
    "Input Format\n",
    "\n",
    "A single line containing the thickness value for the logo."
   ]
  },
  {
   "cell_type": "code",
   "execution_count": 19,
   "id": "518d1e30",
   "metadata": {},
   "outputs": [
    {
     "name": "stdout",
     "output_type": "stream",
     "text": [
      "5\n",
      "    H    \n",
      "   HHH   \n",
      "  HHHHH  \n",
      " HHHHHHH \n",
      "HHHHHHHHH\n",
      "  HHHHH               HHHHH             \n",
      "  HHHHH               HHHHH             \n",
      "  HHHHH               HHHHH             \n",
      "  HHHHH               HHHHH             \n",
      "  HHHHH               HHHHH             \n",
      "  HHHHH               HHHHH             \n",
      "  HHHHHHHHHHHHHHHHHHHHHHHHH   \n",
      "  HHHHHHHHHHHHHHHHHHHHHHHHH   \n",
      "  HHHHHHHHHHHHHHHHHHHHHHHHH   \n",
      "  HHHHH               HHHHH             \n",
      "  HHHHH               HHHHH             \n",
      "  HHHHH               HHHHH             \n",
      "  HHHHH               HHHHH             \n",
      "  HHHHH               HHHHH             \n",
      "  HHHHH               HHHHH             \n",
      "                    HHHHHHHHH \n",
      "                     HHHHHHH  \n",
      "                      HHHHH   \n",
      "                       HHH    \n",
      "                        H     \n"
     ]
    }
   ],
   "source": [
    "thickness = int(input()) #This must be an odd number\n",
    "c = 'H'\n",
    "\n",
    "#Top Cone\n",
    "for i in range(thickness):\n",
    "    print((c*i).rjust(thickness-1)+c+(c*i).ljust(thickness-1))\n",
    "\n",
    "#Top Pillars\n",
    "for i in range(thickness+1):\n",
    "    print((c*thickness).center(thickness*2)+(c*thickness).center(thickness*6))\n",
    "\n",
    "#Middle Belt\n",
    "for i in range((thickness+1)//2):\n",
    "    print((c*thickness*5).center(thickness*6))    \n",
    "\n",
    "#Bottom Pillars\n",
    "for i in range(thickness+1):\n",
    "    print((c*thickness).center(thickness*2)+(c*thickness).center(thickness*6))    \n",
    "\n",
    "#Bottom Cone\n",
    "for i in range(thickness):\n",
    "    print(((c*(thickness-i-1)).rjust(thickness)+c+(c*(thickness-i-1)).ljust(thickness)).rjust(thickness*6))"
   ]
  },
  {
   "cell_type": "markdown",
   "id": "bfbcfe4f",
   "metadata": {},
   "source": [
    "#### Q.8) You are given a string S and width w.\n",
    "Your task is to wrap the string into a paragraph of width w.\n",
    "\n",
    "You are given a string S and width w.\n",
    "Your task is to wrap the string into a paragraph of width w.\n",
    "\n",
    "string: a single string with newline characters ('\\n') where the breaks should be\n",
    "Input Format\n",
    "\n",
    "The first line contains a string, string.\n",
    "The second line contains the width, max width."
   ]
  },
  {
   "cell_type": "code",
   "execution_count": 21,
   "id": "537cb207",
   "metadata": {},
   "outputs": [
    {
     "name": "stdout",
     "output_type": "stream",
     "text": [
      "abcdefghijklmnop\n",
      "4\n",
      "abcd\n",
      "efgh\n",
      "ijkl\n",
      "mnop\n"
     ]
    }
   ],
   "source": [
    "import textwrap\n",
    "\n",
    "def wrap(string, max_width):\n",
    "    \n",
    "    convert = list(string)\n",
    "    \n",
    "    lines = []\n",
    "    line = \"\"\n",
    "    \n",
    "    for i in convert:\n",
    "        if len(line) < max_width:\n",
    "            line += i\n",
    "            \n",
    "        else:\n",
    "            lines.append(line)\n",
    "            line = i\n",
    "            \n",
    "    lines.append(line)\n",
    "    \n",
    "    return \"\\n\".join(lines)\n",
    "\n",
    "if __name__ == '__main__':\n",
    "    string, max_width = input(), int(input())\n",
    "    result = wrap(string, max_width)\n",
    "    print(result)"
   ]
  },
  {
   "cell_type": "code",
   "execution_count": 23,
   "id": "b29b8bbd",
   "metadata": {},
   "outputs": [
    {
     "name": "stdout",
     "output_type": "stream",
     "text": [
      "abcdefghijkl\n",
      "5\n",
      "abcde\n",
      "fghij\n",
      "kl\n"
     ]
    }
   ],
   "source": [
    "import textwrap\n",
    "\n",
    "def wrap(string, max_width):\n",
    "    wrapresult = textwrap.fill(string,max_width)\n",
    "    return wrapresult\n",
    "if __name__ == '__main__':\n",
    "    string, max_width = input(), int(input())\n",
    "    result = wrap(string, max_width)\n",
    "    print(result)"
   ]
  },
  {
   "cell_type": "markdown",
   "id": "79820666",
   "metadata": {},
   "source": [
    "#### Q.9) Mr. Vincent works in a door mat manufacturing company. One day, he designed a new door mat with the following specifications:\n",
    "\n",
    "Mat size must be NxM. (N is an odd natural number, andM is 3 times N.)\n",
    "The design should have 'WELCOME' written in the center.\n",
    "The design pattern should only use |, . and - characters."
   ]
  },
  {
   "cell_type": "code",
   "execution_count": 25,
   "id": "12d62314",
   "metadata": {},
   "outputs": [
    {
     "name": "stdout",
     "output_type": "stream",
     "text": [
      "7 21\n",
      "---------.|.---------\n",
      "------.|..|..|.------\n",
      "---.|..|..|..|..|.---\n",
      "-------WELCOME-------\n",
      "---.|..|..|..|..|.---\n",
      "------.|..|..|.------\n",
      "---------.|.---------\n"
     ]
    }
   ],
   "source": [
    "row,col = map(int,input().split(\" \"))\n",
    "ch = \".|.\"\n",
    "wel = \"WELCOME\"\n",
    "def upper(row,col,ch):\n",
    "    for i in range(row//2):\n",
    "        exp = ch*(2*i+1)\n",
    "        print(exp.center(col,\"-\"))\n",
    "        \n",
    "def middle(row,col,wel):\n",
    "    print(wel.center(col,\"-\"))\n",
    "    \n",
    "def bottom(row,col,ch):\n",
    "    for i in range(row//2):\n",
    "        exp = ch*((row-2)-2*i)\n",
    "        print(exp.center(col,\"-\"))\n",
    "\n",
    "if __name__ == \"__main__\":   # Calling functions\n",
    "    upper(row,col,ch)\n",
    "    middle(row,col,wel)\n",
    "    bottom(row,col,ch)"
   ]
  },
  {
   "cell_type": "markdown",
   "id": "a9bf6c24",
   "metadata": {},
   "source": [
    "#### Q.10) Given an integer, n, print the following values for each integer i from 1 to n:\n",
    "\n",
    "Decimal\n",
    "Octal\n",
    "Hexadecimal (capitalized)\n",
    "Binary\n",
    "\n",
    "Complete the print_formatted function in the editor below.\n",
    "\n",
    "print_formatted has the following parameters:\n",
    "\n",
    "int number: the maximum value to print\n",
    "\n",
    "Prints\n",
    "\n",
    "The four values must be printed on a single line in the order specified above for each i from 1 to n. Each value should be space-padded to match the width of the binary value of number and the values should be separated by a single space.\n",
    "\n",
    "Input Format\n",
    "\n",
    "A single integer denoting n."
   ]
  },
  {
   "cell_type": "code",
   "execution_count": 26,
   "id": "a333cb23",
   "metadata": {},
   "outputs": [
    {
     "name": "stdout",
     "output_type": "stream",
     "text": [
      "15\n",
      "   1    1    1    1\n",
      "   2    2    2   10\n",
      "   3    3    3   11\n",
      "   4    4    4  100\n",
      "   5    5    5  101\n",
      "   6    6    6  110\n",
      "   7    7    7  111\n",
      "   8   10    8 1000\n",
      "   9   11    9 1001\n",
      "  10   12    A 1010\n",
      "  11   13    B 1011\n",
      "  12   14    C 1100\n",
      "  13   15    D 1101\n",
      "  14   16    E 1110\n",
      "  15   17    F 1111\n"
     ]
    }
   ],
   "source": [
    "def print_formatted(number):\n",
    "    nbin = format(number,'b')\n",
    "    size = len(nbin)\n",
    "    for i in range(1,n+1):\n",
    "        octa = format(i,'o')\n",
    "        hexa = format(i,'X')\n",
    "        bina = format(i,'b')\n",
    "        \n",
    "        print(str(i).rjust(size),str(octa).rjust(size),str(hexa).rjust(size),str(bina).rjust(size))\n",
    "if __name__ == '__main__':\n",
    "    n = int(input())\n",
    "    print_formatted(n)"
   ]
  },
  {
   "cell_type": "markdown",
   "id": "6cad349e",
   "metadata": {},
   "source": [
    "#### Q.11) You are given an integer, N. Your task is to print an alphabet rangoli of size N. (Rangoli is a form of Indian folk art based on the creation of patterns.)\n",
    "\n",
    "Different sizes of alphabet rangoli are shown below:\n",
    "\n",
    "The center of the rangoli has the first alphabet letter a, and the boundary has the Nth alphabet letter (in alphabetical order).\n",
    "\n",
    "Returns\n",
    "\n",
    "string: a single string made up of each of the lines of the rangoli separated by a newline character (\\n)\n",
    "Input Format\n",
    "\n",
    "Only one line of input containing , the size of the rangoli."
   ]
  },
  {
   "cell_type": "code",
   "execution_count": 27,
   "id": "6d3b6d57",
   "metadata": {},
   "outputs": [
    {
     "name": "stdout",
     "output_type": "stream",
     "text": [
      "5\n",
      "--------e--------\n",
      "------e-d-e------\n",
      "----e-d-c-d-e----\n",
      "--e-d-c-b-c-d-e--\n",
      "e-d-c-b-a-b-c-d-e\n",
      "--e-d-c-b-c-d-e--\n",
      "----e-d-c-d-e----\n",
      "------e-d-e------\n",
      "--------e--------\n"
     ]
    }
   ],
   "source": [
    "def print_rangoli(size):\n",
    "    # your code goes here\n",
    "    alphbets = \"abcdefghijklmnopqrstuvwxyz\"\n",
    "    # get char from alphabets, \"-char-\", next this in center and fill\n",
    "    total_size = ((4*size)-3)\n",
    "    for i in range(1, size+1):\n",
    "        # Form alphabets\n",
    "        alpha_string = \"\"\n",
    "        for j in range(i):\n",
    "            letter = alphbets[size-i+j]\n",
    "            alpha_string = alpha_string.center((2*j+1), letter)\n",
    "        alpha_string_hiphen = \"-\".join(alpha_string)\n",
    "        print(alpha_string_hiphen.center(total_size, \"-\"))                 \n",
    "    for i in range(size-1, 0, -1):        \n",
    "        alpha_string = \"\"\n",
    "        for j in range(i):                \n",
    "            letter = alphbets[size-i+j]\n",
    "            alpha_string = alpha_string.center((2*j+1), letter)\n",
    "        alpha_string_hiphen = \"-\".join(alpha_string)\n",
    "        print(alpha_string_hiphen.center(total_size, \"-\"))          \n",
    " \n",
    "if __name__ == '__main__':\n",
    "    n = int(input())\n",
    "    print_rangoli(n)"
   ]
  },
  {
   "cell_type": "markdown",
   "id": "5638aac7",
   "metadata": {},
   "source": [
    "#### Q.12) You are asked to ensure that the first and last names of people begin with a capital letter in their passports. For example, alison heck should be capitalised correctly as Alison Heck."
   ]
  },
  {
   "cell_type": "code",
   "execution_count": 30,
   "id": "df0a15d3",
   "metadata": {},
   "outputs": [
    {
     "name": "stdout",
     "output_type": "stream",
     "text": [
      "asra fatima\n",
      "Asra Fatima\n"
     ]
    }
   ],
   "source": [
    "import math\n",
    "import os\n",
    "import random\n",
    "import re\n",
    "import sys\n",
    "\n",
    "def solve(s):\n",
    "    return \" \".join([name.capitalize() for name in s.split(\" \")])\n",
    "\n",
    "s = input()\n",
    "result = solve(s)\n",
    "print(result)"
   ]
  },
  {
   "cell_type": "markdown",
   "id": "bdd264ef",
   "metadata": {},
   "source": [
    "#### Q.13) Kevin and Stuart want to play the 'The Minion Game'.\n",
    "Both players are given the same string, S .\n",
    "Both players have to make substrings using the letters of the string S.\n",
    "Stuart has to make words starting with consonants.\n",
    "Kevin has to make words starting with vowels.\n",
    "The game ends when both players have made all possible substrings.\n",
    "\n",
    "Scoring\n",
    "\n",
    "A player gets +1 point for each occurrence of the substring in the string S\n",
    "For example:\n",
    "\n",
    "String S = BANANA\n",
    "Kevin's vowel beginning word = ANA\n",
    "Here, ANA occurs twice in BANANA. Hence, Kevin will get 2 Points.\n",
    "\n",
    "Your task is to determine the winner of the game and their score.\n",
    "\n",
    "Function Description\n",
    "\n",
    "Complete the minion_game in the editor below.\n",
    "\n",
    "minion_game has the following parameters:\n",
    "\n",
    "string string: the string to analyze\n",
    "Prints\n",
    "\n",
    "string: the winner's name and score, separated by a space on one line, or Draw if there is no winner\n",
    "Input Format:\n",
    "\n",
    "A single line of input containing the string S.\n",
    "Note: The string will contain only uppercase letters: [A-Z] ."
   ]
  },
  {
   "cell_type": "code",
   "execution_count": 31,
   "id": "8512fb52",
   "metadata": {},
   "outputs": [
    {
     "name": "stdout",
     "output_type": "stream",
     "text": [
      "pineapple\n",
      "Stuart 45\n"
     ]
    }
   ],
   "source": [
    "def minion_game(string):\n",
    "    vowel = \"AEIOU\"\n",
    "    sc = 0\n",
    "    kc = 0\n",
    "    x = len(string)\n",
    "    for i in range(x):\n",
    "        if string[i] in vowel:\n",
    "            kc += x - i\n",
    "        else:\n",
    "            sc += x - i\n",
    "    if sc > kc:\n",
    "        print(\"Stuart\", str(sc))\n",
    "    elif kc > sc:\n",
    "        print(\"Kevin\", str(kc))\n",
    "    else:\n",
    "        print(\"Draw\")\n",
    "\n",
    "\n",
    "if __name__ == '__main__':\n",
    "    s = input()\n",
    "    minion_game(s)"
   ]
  },
  {
   "cell_type": "markdown",
   "id": "68e45fb8",
   "metadata": {},
   "source": [
    "#### Q.14) Consider the following:\n",
    "\n",
    "A string, s, of length n where s = c0c1. . . . cn-1.\n",
    "An integer, k, where k is a factor of n.\n",
    "\n",
    "We can split s into n/k substrings where each subtring, ti, consists of a contiguous block of k characters in s. Then, use each ti to create string ui such that:\n",
    "\n",
    "The characters in ui are a subsequence of the characters in ti.\n",
    "\n",
    "Any repeat occurrence of a character is removed from the string such that each character in ui occurs exactly once. In other words, if the character at some index j in ti occurs at a previous index < j in ti, then do not include the character in string ui.\n",
    "\n",
    "Given s and k, print n/k lines where each line i denotes string UI.\n",
    "\n",
    "Example:\n",
    "\n",
    "s = “AAABCADDE”\n",
    "k = 3\n",
    "\n",
    "There are three substrings of length 3 to consider: ‘AAA’, ‘BCA’ and ‘DDE’. The first substring is all ‘A’ characters, so u1 = ‘A’. The second substring has all distinct characters, so u2 = ‘BCA’. The third substring has 2 different characters, so u3 = ‘DE’. Note that a subsequence maintains the original order of characters encountered. The order of characters in each subsequence shown is important.\n",
    "\n",
    "Function Description\n",
    "\n",
    "Complete the merge_the_tools function in the editor below.\n",
    "\n",
    "merge_the_tools has the following parameters:\n",
    "\n",
    "string s: the string to analyze\n",
    "int k: the size of substrings to analyze\n",
    "Prints\n",
    "\n",
    "Print each subsequence on a new line. There will be n/k of them. No return value is expected.\n",
    "\n",
    "Input Format:\n",
    "The first line contains a single string, s.\n",
    "\n",
    "The second line contains an integer, k, the length of each substring."
   ]
  },
  {
   "cell_type": "code",
   "execution_count": 33,
   "id": "72d9a035",
   "metadata": {},
   "outputs": [
    {
     "name": "stdout",
     "output_type": "stream",
     "text": [
      "abccdefffhji\n",
      "4\n",
      "abc\n",
      "def\n",
      "fhji\n"
     ]
    }
   ],
   "source": [
    "def merge_the_tools(string, k):\n",
    "    l = len(string)//k\n",
    "    for i in range(l):\n",
    "        print(''.join(dict.fromkeys(string[i*k:(i*k)+k])))\n",
    "\n",
    "if __name__ == '__main__':\n",
    "    string, k = input(), int(input())\n",
    "    merge_the_tools(string, k)"
   ]
  },
  {
   "cell_type": "code",
   "execution_count": null,
   "id": "58af7d58",
   "metadata": {},
   "outputs": [],
   "source": []
  }
 ],
 "metadata": {
  "kernelspec": {
   "display_name": "Python 3 (ipykernel)",
   "language": "python",
   "name": "python3"
  },
  "language_info": {
   "codemirror_mode": {
    "name": "ipython",
    "version": 3
   },
   "file_extension": ".py",
   "mimetype": "text/x-python",
   "name": "python",
   "nbconvert_exporter": "python",
   "pygments_lexer": "ipython3",
   "version": "3.9.12"
  }
 },
 "nbformat": 4,
 "nbformat_minor": 5
}
