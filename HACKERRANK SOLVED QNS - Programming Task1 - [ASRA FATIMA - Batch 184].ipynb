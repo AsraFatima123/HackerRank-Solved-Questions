{
 "cells": [
  {
   "cell_type": "markdown",
   "id": "68345b13",
   "metadata": {},
   "source": [
    "######  1.) Print Hello, World! to stdout."
   ]
  },
  {
   "cell_type": "code",
   "execution_count": 1,
   "id": "b61c3b3c",
   "metadata": {},
   "outputs": [
    {
     "name": "stdout",
     "output_type": "stream",
     "text": [
      "Hello, World!\n"
     ]
    }
   ],
   "source": [
    "print(\"Hello, World!\")"
   ]
  },
  {
   "cell_type": "code",
   "execution_count": null,
   "id": "134f04d5",
   "metadata": {},
   "outputs": [],
   "source": []
  },
  {
   "cell_type": "markdown",
   "id": "ae520bed",
   "metadata": {},
   "source": [
    "###### 2.) Given an integer, , perform the following conditional actions:\n",
    "\n",
    "- If  is odd, print Weird\n",
    "- If  is even and in the inclusive range of  to , print Not Weird\n",
    "- If  is even and in the inclusive range of  to , print Weird\n",
    "- If  is even and greater than , print Not Weird"
   ]
  },
  {
   "cell_type": "code",
   "execution_count": 1,
   "id": "230c85b1",
   "metadata": {},
   "outputs": [
    {
     "name": "stdout",
     "output_type": "stream",
     "text": [
      "21\n",
      "Weird\n"
     ]
    }
   ],
   "source": [
    "N = int(input().strip())\n",
    "if N % 2 != 0:\n",
    "    print (\"Weird\")\n",
    "else:\n",
    "    if N >= 2 and N <= 5:\n",
    "        print (\"Not Weird\")\n",
    "    elif N >= 6 and N <= 20:\n",
    "        print (\"Weird\")\n",
    "    elif N > 20:\n",
    "        print (\"Not Weird\")\n"
   ]
  },
  {
   "cell_type": "markdown",
   "id": "5b1e3f8f",
   "metadata": {},
   "source": [
    "###### 3.) Task\n",
    "######  The provided code stub reads two integers from STDIN,  and . Add code to print three lines where:\n",
    "-  The first line contains the sum of the two numbers.\n",
    "-  The second line contains the difference of the two numbers (first - second).\n",
    "-  The third line contains the product of the two numbers."
   ]
  },
  {
   "cell_type": "code",
   "execution_count": 4,
   "id": "8bfcaf77",
   "metadata": {},
   "outputs": [
    {
     "name": "stdout",
     "output_type": "stream",
     "text": [
      "5\n",
      "5\n",
      "10\n",
      "0\n",
      "25\n"
     ]
    }
   ],
   "source": [
    "a = int(input())\n",
    "b = int(input())\n",
    "print(a+b)\n",
    "print(a-b)\n",
    "print(a*b)"
   ]
  },
  {
   "cell_type": "markdown",
   "id": "f65cedf8",
   "metadata": {},
   "source": [
    "###### 4.) The provided code stub reads two integers,  and , from STDIN.\n",
    "\n",
    "- Add logic to print two lines. The first line should contain the result of integer division,  // . \n",
    "- The second line should contain the result of float division,  / .\n",
    "\n",
    "No rounding or formatting is necessary."
   ]
  },
  {
   "cell_type": "code",
   "execution_count": 6,
   "id": "779f3fc6",
   "metadata": {},
   "outputs": [
    {
     "name": "stdout",
     "output_type": "stream",
     "text": [
      "8\n",
      "3\n",
      "2\n",
      "2.6666666666666665\n"
     ]
    }
   ],
   "source": [
    "a = int(input())\n",
    "b = int(input())\n",
    "print(a//b)\n",
    "print(a/b)"
   ]
  },
  {
   "cell_type": "markdown",
   "id": "c32a1ba5",
   "metadata": {},
   "source": [
    "###### 5.) Task\n",
    "The provided code stub reads and integer, , from STDIN. For all non-negative integers i<n , print i2."
   ]
  },
  {
   "cell_type": "code",
   "execution_count": 9,
   "id": "9ca9cafd",
   "metadata": {},
   "outputs": [
    {
     "name": "stdout",
     "output_type": "stream",
     "text": [
      "5\n",
      "0\n",
      "1\n",
      "4\n",
      "9\n",
      "16\n"
     ]
    }
   ],
   "source": [
    "n=int(input())\n",
    "for i in range(n):\n",
    "    print(i**2)"
   ]
  },
  {
   "cell_type": "markdown",
   "id": "83628017",
   "metadata": {},
   "source": [
    "###### 6.) The included code stub will read an integer, , from STDIN.\n",
    "\n",
    "- Without using any string methods, try to print the following:\n",
    "- Note that \"123....n\" represents the consecutive values in between.\n",
    "- Example\n",
    "    - n=5, Print the string 12345."
   ]
  },
  {
   "cell_type": "code",
   "execution_count": 10,
   "id": "c009bba5",
   "metadata": {},
   "outputs": [
    {
     "name": "stdout",
     "output_type": "stream",
     "text": [
      "5\n",
      "12345"
     ]
    }
   ],
   "source": [
    "n=int(input())\n",
    "for i in range(1,n+1):\n",
    "    print(i, end=\"\")"
   ]
  },
  {
   "cell_type": "markdown",
   "id": "275e231a",
   "metadata": {},
   "source": [
    "###### 7.)An extra day is added to the calendar almost every four years as February 29, and the day is called a leap day. It corrects the calendar for the fact that our planet takes approximately 365.25 days to orbit the sun. A leap year contains a leap day.\n",
    "\n",
    "- In the Gregorian calendar, three conditions are used to identify leap years:\n",
    "\n",
    "- The year can be evenly divided by 4, is a leap year, unless:\n",
    "- The year can be evenly divided by 100, it is NOT a leap year, unless:\n",
    "- The year is also evenly divisible by 400. Then it is a leap year.\n",
    "- This means that in the Gregorian calendar, the years 2000 and 2400 are leap years, while 1800, 1900, 2100, 2200, 2300 and 2500 are NOT leap years."
   ]
  },
  {
   "cell_type": "code",
   "execution_count": 13,
   "id": "8a367e97",
   "metadata": {},
   "outputs": [
    {
     "name": "stdout",
     "output_type": "stream",
     "text": [
      "2024\n",
      "True\n"
     ]
    }
   ],
   "source": [
    "# METHOD 1: Using the calendar module:\n",
    "\n",
    "import calendar\n",
    "def is_leap(year):\n",
    "    leap = False\n",
    "    if calendar.isleap(year):\n",
    "        leap=True\n",
    "    return leap\n",
    "\n",
    "year = int(input())\n",
    "print(is_leap(year))"
   ]
  },
  {
   "cell_type": "code",
   "execution_count": 15,
   "id": "33d558e8",
   "metadata": {},
   "outputs": [
    {
     "name": "stdout",
     "output_type": "stream",
     "text": [
      "2024\n",
      "True\n"
     ]
    }
   ],
   "source": [
    "#METHOD 2: Using if-else\n",
    "\n",
    "def is_leap(year):\n",
    "    \n",
    "    # variable to check the leap year\n",
    "    leap = False\n",
    "    \n",
    "    # divided by 100 means century year\n",
    "    # century year divided by 400 is leap year\n",
    "    if (year % 400 == 0) and (year % 100 == 0):\n",
    "        \n",
    "       # change leap to True\n",
    "        leap = True\n",
    "\n",
    "    # not divided by 100 means not a century year\n",
    "    # year divided by 4 is a leap year\n",
    "    elif (year % 4 ==0) and (year % 100 != 0):\n",
    "        \n",
    "        #Change leap to true\n",
    "        leap = True\n",
    "\n",
    "    #else not a leap year\n",
    "    else:      \n",
    "        pass\n",
    "    \n",
    "    return leap\n",
    "\n",
    "year= int(input())\n",
    "print(is_leap(year))"
   ]
  },
  {
   "cell_type": "code",
   "execution_count": null,
   "id": "5d66168f",
   "metadata": {},
   "outputs": [],
   "source": []
  }
 ],
 "metadata": {
  "kernelspec": {
   "display_name": "Python 3 (ipykernel)",
   "language": "python",
   "name": "python3"
  },
  "language_info": {
   "codemirror_mode": {
    "name": "ipython",
    "version": 3
   },
   "file_extension": ".py",
   "mimetype": "text/x-python",
   "name": "python",
   "nbconvert_exporter": "python",
   "pygments_lexer": "ipython3",
   "version": "3.9.12"
  }
 },
 "nbformat": 4,
 "nbformat_minor": 5
}
